{
 "cells": [
  {
   "cell_type": "code",
   "execution_count": 92,
   "id": "7237c2fd-f8d7-486b-a544-48575ab9c9d3",
   "metadata": {},
   "outputs": [],
   "source": [
    "import pandas as pd\n",
    "import re\n",
    "from sklearn.model_selection import train_test_split\n",
    "from sklearn.linear_model import LinearRegression\n",
    "from sklearn.metrics import mean_squared_error, r2_score\n",
    "from sklearn.impute import SimpleImputer\n",
    "from sklearn.preprocessing import StandardScaler\n",
    "from sklearn.ensemble import HistGradientBoostingRegressor\n",
    "from sklearn.metrics import mean_absolute_error, mean_squared_error, r2_score\n",
    "from sklearn.model_selection import train_test_split\n",
    "import pandas as pd\n",
    "import numpy as np\n",
    "from sklearn.ensemble import HistGradientBoostingRegressor\n",
    "from sklearn.model_selection import train_test_split\n",
    "from sklearn.preprocessing import StandardScaler\n",
    "from sklearn.impute import SimpleImputer\n",
    "from sklearn.pipeline import Pipeline\n",
    "from sklearn.compose import ColumnTransformer\n",
    "from sklearn.metrics import mean_absolute_error, mean_squared_error, r2_score\n",
    "from sklearn.model_selection import GridSearchCV\n",
    "import pandas as pd\n",
    "import numpy as np\n",
    "from sklearn.model_selection import train_test_split, GridSearchCV\n",
    "from sklearn.ensemble import RandomForestRegressor\n",
    "from sklearn.metrics import mean_squared_error, r2_score\n",
    "from sklearn.impute import SimpleImputer\n",
    "from sklearn.preprocessing import StandardScaler"
   ]
  },
  {
   "cell_type": "code",
   "execution_count": 93,
   "id": "6bad2d49-7f44-42a2-96d1-685441faffb0",
   "metadata": {},
   "outputs": [],
   "source": [
    "df = pd.read_csv(\"golf_raw.csv\")"
   ]
  },
  {
   "cell_type": "code",
   "execution_count": 94,
   "id": "80f74cbb-f2d2-4c23-b80e-54d636bde629",
   "metadata": {},
   "outputs": [
    {
     "name": "stdout",
     "output_type": "stream",
     "text": [
      "<class 'pandas.core.frame.DataFrame'>\n",
      "RangeIndex: 15629 entries, 0 to 15628\n",
      "Data columns (total 29 columns):\n",
      " #   Column           Non-Null Count  Dtype  \n",
      "---  ------           --------------  -----  \n",
      " 0   tour             15629 non-null  object \n",
      " 1   year             15629 non-null  int64  \n",
      " 2   season           15629 non-null  int64  \n",
      " 3   event_completed  15629 non-null  object \n",
      " 4   event_name       15629 non-null  object \n",
      " 5   player_name      15629 non-null  object \n",
      " 6   dg_id            15629 non-null  int64  \n",
      " 7   fin_text         15629 non-null  object \n",
      " 8   round_num        15629 non-null  int64  \n",
      " 9   course_name      15629 non-null  object \n",
      " 10  course_num       15629 non-null  int64  \n",
      " 11  course_par       15629 non-null  int64  \n",
      " 12  start_hole       15629 non-null  int64  \n",
      " 13  teetime          15629 non-null  object \n",
      " 14  round_score      15629 non-null  int64  \n",
      " 15  sg_putt          11697 non-null  float64\n",
      " 16  sg_arg           11697 non-null  float64\n",
      " 17  sg_app           11697 non-null  float64\n",
      " 18  sg_ott           11697 non-null  float64\n",
      " 19  sg_t2g           11697 non-null  float64\n",
      " 20  sg_total         15629 non-null  float64\n",
      " 21  driving_dist     11555 non-null  float64\n",
      " 22  driving_acc      11555 non-null  float64\n",
      " 23  gir              11115 non-null  float64\n",
      " 24  scrambling       11114 non-null  float64\n",
      " 25  prox_rgh         10822 non-null  float64\n",
      " 26  prox_fw          11115 non-null  float64\n",
      " 27  great_shots      11115 non-null  float64\n",
      " 28  poor_shots       11115 non-null  float64\n",
      "dtypes: float64(14), int64(8), object(7)\n",
      "memory usage: 3.5+ MB\n"
     ]
    }
   ],
   "source": [
    "df.info()"
   ]
  },
  {
   "cell_type": "code",
   "execution_count": 95,
   "id": "cec107f3-800e-4e66-bfe3-55c54d185011",
   "metadata": {},
   "outputs": [
    {
     "data": {
      "text/plain": [
       "event_name\n",
       "PGA Championship            3744\n",
       "U.S. Open                   3567\n",
       "THE PLAYERS Championship    3198\n",
       "The Open Championship       2800\n",
       "Masters Tournament          2320\n",
       "Name: count, dtype: int64"
      ]
     },
     "execution_count": 95,
     "metadata": {},
     "output_type": "execute_result"
    }
   ],
   "source": [
    "df['event_name'].value_counts()"
   ]
  },
  {
   "cell_type": "code",
   "execution_count": 96,
   "id": "169f4ab0-0938-44f3-9d46-466dd528f491",
   "metadata": {},
   "outputs": [],
   "source": [
    "# course dictionary\n",
    "course_dict_df = pd.read_csv(\"coursename.csv\")\n",
    "\n",
    "# Create a dictionary from the course dictionary DataFrame\n",
    "course_dict = dict(zip(course_dict_df['course_num'], course_dict_df['course_name']))"
   ]
  },
  {
   "cell_type": "code",
   "execution_count": 97,
   "id": "1da21c82-1fe8-4597-8007-4f69d3925e60",
   "metadata": {},
   "outputs": [
    {
     "name": "stdout",
     "output_type": "stream",
     "text": [
      "   course_num                                  course_name\n",
      "0          11                                 TPC Sawgrass\n",
      "1          14                   Augusta National Golf Club\n",
      "2          43  The Los Angeles Country Club (North Course)\n",
      "3         236                                   Erin Hills\n",
      "4         241                Quail Hollow-PGA Championship\n"
     ]
    }
   ],
   "source": [
    "print(course_dict_df.head())"
   ]
  },
  {
   "cell_type": "code",
   "execution_count": 98,
   "id": "74fdff73-93a1-4907-802e-1a11f48e58ca",
   "metadata": {},
   "outputs": [],
   "source": [
    "# player name dictionary\n",
    "player_dict_df = pd.read_csv(\"playernames.csv\")\n",
    "\n",
    "# Create a dictionary from playername dictionary Dataframe\n",
    "player_dict = dict(zip(player_dict_df['dg_id'], player_dict_df['player_name']))"
   ]
  },
  {
   "cell_type": "code",
   "execution_count": 99,
   "id": "1f79d625-f3d7-444a-8da4-921d0bd016e0",
   "metadata": {},
   "outputs": [
    {
     "name": "stdout",
     "output_type": "stream",
     "text": [
      "   dg_id         player_name\n",
      "0     30  Calcavecchia, Mark\n",
      "1     44       Couples, Fred\n",
      "2     94          Hart, Jeff\n",
      "3    139         Mize, Larry\n",
      "4    154       O'Meara, Mark\n"
     ]
    }
   ],
   "source": [
    "print(player_dict_df.head())\n"
   ]
  },
  {
   "cell_type": "code",
   "execution_count": 100,
   "id": "55ebf1bc-2564-41e3-9d80-3d86891e02f4",
   "metadata": {},
   "outputs": [],
   "source": [
    "# start by dropping 'tour' column since all of the tournaments in my scope are in the same tour (PGA)\n",
    "df.drop(columns = 'tour', inplace = True)"
   ]
  },
  {
   "cell_type": "code",
   "execution_count": 101,
   "id": "542b01dd-0522-4b0e-b910-ffdf7bbf575a",
   "metadata": {},
   "outputs": [],
   "source": [
    "# drop player_name since names are stored/mapped numerically under dg_id\n",
    "df.drop(columns = 'player_name', inplace = True)"
   ]
  },
  {
   "cell_type": "code",
   "execution_count": 102,
   "id": "df98de93-329e-4f27-b94e-9857ff396a2a",
   "metadata": {},
   "outputs": [],
   "source": [
    "# drop course_name since names are stored/mapped numerically under course_num\n",
    "df.drop(columns = 'course_name', inplace = True)"
   ]
  },
  {
   "cell_type": "code",
   "execution_count": 103,
   "id": "84d3f64a-1c59-488b-ba52-9f86055abd6a",
   "metadata": {},
   "outputs": [],
   "source": [
    "# Drop granular strokes gained metrics since they are represented in sg_total\n",
    "df.drop(columns=['sg_putt', 'sg_arg', 'sg_app', 'sg_ott', 'sg_t2g'], inplace=True)"
   ]
  },
  {
   "cell_type": "code",
   "execution_count": 104,
   "id": "67ff01ac-c02e-428a-a3d8-9b841b3feb8f",
   "metadata": {},
   "outputs": [
    {
     "data": {
      "text/html": [
       "<div>\n",
       "<style scoped>\n",
       "    .dataframe tbody tr th:only-of-type {\n",
       "        vertical-align: middle;\n",
       "    }\n",
       "\n",
       "    .dataframe tbody tr th {\n",
       "        vertical-align: top;\n",
       "    }\n",
       "\n",
       "    .dataframe thead th {\n",
       "        text-align: right;\n",
       "    }\n",
       "</style>\n",
       "<table border=\"1\" class=\"dataframe\">\n",
       "  <thead>\n",
       "    <tr style=\"text-align: right;\">\n",
       "      <th></th>\n",
       "      <th>year</th>\n",
       "      <th>season</th>\n",
       "      <th>event_completed</th>\n",
       "      <th>event_name</th>\n",
       "      <th>dg_id</th>\n",
       "      <th>fin_text</th>\n",
       "      <th>round_num</th>\n",
       "      <th>course_num</th>\n",
       "      <th>course_par</th>\n",
       "      <th>start_hole</th>\n",
       "      <th>...</th>\n",
       "      <th>round_score</th>\n",
       "      <th>sg_total</th>\n",
       "      <th>driving_dist</th>\n",
       "      <th>driving_acc</th>\n",
       "      <th>gir</th>\n",
       "      <th>scrambling</th>\n",
       "      <th>prox_rgh</th>\n",
       "      <th>prox_fw</th>\n",
       "      <th>great_shots</th>\n",
       "      <th>poor_shots</th>\n",
       "    </tr>\n",
       "  </thead>\n",
       "  <tbody>\n",
       "    <tr>\n",
       "      <th>0</th>\n",
       "      <td>2023</td>\n",
       "      <td>2023</td>\n",
       "      <td>3/12/23</td>\n",
       "      <td>THE PLAYERS Championship</td>\n",
       "      <td>15575</td>\n",
       "      <td>T3</td>\n",
       "      <td>3</td>\n",
       "      <td>11</td>\n",
       "      <td>72</td>\n",
       "      <td>10</td>\n",
       "      <td>...</td>\n",
       "      <td>62</td>\n",
       "      <td>7.573</td>\n",
       "      <td>278.8</td>\n",
       "      <td>0.786</td>\n",
       "      <td>0.889</td>\n",
       "      <td>1.000</td>\n",
       "      <td>50.571</td>\n",
       "      <td>21.302</td>\n",
       "      <td>6.0</td>\n",
       "      <td>2.0</td>\n",
       "    </tr>\n",
       "    <tr>\n",
       "      <th>1</th>\n",
       "      <td>2020</td>\n",
       "      <td>2021</td>\n",
       "      <td>9/20/20</td>\n",
       "      <td>U.S. Open</td>\n",
       "      <td>7881</td>\n",
       "      <td>CUT</td>\n",
       "      <td>2</td>\n",
       "      <td>891</td>\n",
       "      <td>70</td>\n",
       "      <td>10</td>\n",
       "      <td>...</td>\n",
       "      <td>86</td>\n",
       "      <td>-10.748</td>\n",
       "      <td>269.5</td>\n",
       "      <td>0.500</td>\n",
       "      <td>0.167</td>\n",
       "      <td>0.333</td>\n",
       "      <td>101.289</td>\n",
       "      <td>48.487</td>\n",
       "      <td>1.0</td>\n",
       "      <td>15.0</td>\n",
       "    </tr>\n",
       "    <tr>\n",
       "      <th>2</th>\n",
       "      <td>2020</td>\n",
       "      <td>2020</td>\n",
       "      <td>3/15/20</td>\n",
       "      <td>THE PLAYERS Championship</td>\n",
       "      <td>13562</td>\n",
       "      <td>1</td>\n",
       "      <td>1</td>\n",
       "      <td>11</td>\n",
       "      <td>72</td>\n",
       "      <td>10</td>\n",
       "      <td>...</td>\n",
       "      <td>63</td>\n",
       "      <td>8.301</td>\n",
       "      <td>NaN</td>\n",
       "      <td>NaN</td>\n",
       "      <td>NaN</td>\n",
       "      <td>NaN</td>\n",
       "      <td>NaN</td>\n",
       "      <td>NaN</td>\n",
       "      <td>NaN</td>\n",
       "      <td>NaN</td>\n",
       "    </tr>\n",
       "    <tr>\n",
       "      <th>3</th>\n",
       "      <td>2022</td>\n",
       "      <td>2022</td>\n",
       "      <td>3/13/22</td>\n",
       "      <td>THE PLAYERS Championship</td>\n",
       "      <td>12422</td>\n",
       "      <td>T9</td>\n",
       "      <td>4</td>\n",
       "      <td>11</td>\n",
       "      <td>72</td>\n",
       "      <td>10</td>\n",
       "      <td>...</td>\n",
       "      <td>63</td>\n",
       "      <td>8.571</td>\n",
       "      <td>295.5</td>\n",
       "      <td>0.714</td>\n",
       "      <td>0.833</td>\n",
       "      <td>0.667</td>\n",
       "      <td>42.105</td>\n",
       "      <td>21.992</td>\n",
       "      <td>7.0</td>\n",
       "      <td>1.0</td>\n",
       "    </tr>\n",
       "    <tr>\n",
       "      <th>4</th>\n",
       "      <td>2024</td>\n",
       "      <td>2024</td>\n",
       "      <td>5/19/24</td>\n",
       "      <td>PGA Championship</td>\n",
       "      <td>19895</td>\n",
       "      <td>1</td>\n",
       "      <td>1</td>\n",
       "      <td>671</td>\n",
       "      <td>71</td>\n",
       "      <td>10</td>\n",
       "      <td>...</td>\n",
       "      <td>62</td>\n",
       "      <td>9.276</td>\n",
       "      <td>299.6</td>\n",
       "      <td>0.857</td>\n",
       "      <td>0.778</td>\n",
       "      <td>0.857</td>\n",
       "      <td>52.667</td>\n",
       "      <td>32.530</td>\n",
       "      <td>7.0</td>\n",
       "      <td>0.0</td>\n",
       "    </tr>\n",
       "  </tbody>\n",
       "</table>\n",
       "<p>5 rows × 21 columns</p>\n",
       "</div>"
      ],
      "text/plain": [
       "   year  season event_completed                event_name  dg_id fin_text  \\\n",
       "0  2023    2023         3/12/23  THE PLAYERS Championship  15575       T3   \n",
       "1  2020    2021         9/20/20                 U.S. Open   7881      CUT   \n",
       "2  2020    2020         3/15/20  THE PLAYERS Championship  13562        1   \n",
       "3  2022    2022         3/13/22  THE PLAYERS Championship  12422       T9   \n",
       "4  2024    2024         5/19/24          PGA Championship  19895        1   \n",
       "\n",
       "   round_num  course_num  course_par  start_hole  ... round_score  sg_total  \\\n",
       "0          3          11          72          10  ...          62     7.573   \n",
       "1          2         891          70          10  ...          86   -10.748   \n",
       "2          1          11          72          10  ...          63     8.301   \n",
       "3          4          11          72          10  ...          63     8.571   \n",
       "4          1         671          71          10  ...          62     9.276   \n",
       "\n",
       "   driving_dist  driving_acc    gir  scrambling  prox_rgh  prox_fw  \\\n",
       "0         278.8        0.786  0.889       1.000    50.571   21.302   \n",
       "1         269.5        0.500  0.167       0.333   101.289   48.487   \n",
       "2           NaN          NaN    NaN         NaN       NaN      NaN   \n",
       "3         295.5        0.714  0.833       0.667    42.105   21.992   \n",
       "4         299.6        0.857  0.778       0.857    52.667   32.530   \n",
       "\n",
       "   great_shots  poor_shots  \n",
       "0          6.0         2.0  \n",
       "1          1.0        15.0  \n",
       "2          NaN         NaN  \n",
       "3          7.0         1.0  \n",
       "4          7.0         0.0  \n",
       "\n",
       "[5 rows x 21 columns]"
      ]
     },
     "execution_count": 104,
     "metadata": {},
     "output_type": "execute_result"
    }
   ],
   "source": [
    "df.head()"
   ]
  },
  {
   "cell_type": "code",
   "execution_count": 105,
   "id": "992c9f2a-ee08-4377-87bd-89b655f36678",
   "metadata": {},
   "outputs": [
    {
     "name": "stdout",
     "output_type": "stream",
     "text": [
      "<class 'pandas.core.frame.DataFrame'>\n",
      "RangeIndex: 15629 entries, 0 to 15628\n",
      "Data columns (total 21 columns):\n",
      " #   Column           Non-Null Count  Dtype  \n",
      "---  ------           --------------  -----  \n",
      " 0   year             15629 non-null  int64  \n",
      " 1   season           15629 non-null  int64  \n",
      " 2   event_completed  15629 non-null  object \n",
      " 3   event_name       15629 non-null  object \n",
      " 4   dg_id            15629 non-null  int64  \n",
      " 5   fin_text         15629 non-null  object \n",
      " 6   round_num        15629 non-null  int64  \n",
      " 7   course_num       15629 non-null  int64  \n",
      " 8   course_par       15629 non-null  int64  \n",
      " 9   start_hole       15629 non-null  int64  \n",
      " 10  teetime          15629 non-null  object \n",
      " 11  round_score      15629 non-null  int64  \n",
      " 12  sg_total         15629 non-null  float64\n",
      " 13  driving_dist     11555 non-null  float64\n",
      " 14  driving_acc      11555 non-null  float64\n",
      " 15  gir              11115 non-null  float64\n",
      " 16  scrambling       11114 non-null  float64\n",
      " 17  prox_rgh         10822 non-null  float64\n",
      " 18  prox_fw          11115 non-null  float64\n",
      " 19  great_shots      11115 non-null  float64\n",
      " 20  poor_shots       11115 non-null  float64\n",
      "dtypes: float64(9), int64(8), object(4)\n",
      "memory usage: 2.5+ MB\n"
     ]
    }
   ],
   "source": [
    "df.info()"
   ]
  },
  {
   "cell_type": "code",
   "execution_count": 106,
   "id": "d2de5516-a8b6-4f50-ad1c-4ba72cf26def",
   "metadata": {},
   "outputs": [
    {
     "name": "stdout",
     "output_type": "stream",
     "text": [
      "driving_dist    0\n",
      "driving_acc     0\n",
      "gir             0\n",
      "scrambling      0\n",
      "prox_rgh        0\n",
      "prox_fw         0\n",
      "great_shots     0\n",
      "poor_shots      0\n",
      "dtype: int64\n"
     ]
    }
   ],
   "source": [
    "# Define functions to convert time to minutes\n",
    "def normalize_time_format(time_str):\n",
    "    return re.sub(r'(\\d+:\\d+)([APap][Mm])', r'\\1 \\2', time_str)\n",
    "\n",
    "def time_to_minutes(time_str):\n",
    "    if pd.isnull(time_str):\n",
    "        return None\n",
    "    time_str = normalize_time_format(time_str)\n",
    "    time_obj = pd.to_datetime(time_str, format='%I:%M %p')\n",
    "    return time_obj.hour * 60 + time_obj.minute\n",
    "\n",
    "# Apply the conversion function to the 'teetime' column\n",
    "df['teetime_int'] = df['teetime'].apply(time_to_minutes)\n",
    "\n",
    "# Fill NaNs in 'teetime_int' with the median value\n",
    "df['teetime_int'].fillna(df['teetime_int'].median(), inplace=True)\n",
    "\n",
    "# List of columns to check for NaNs and calculate skewness\n",
    "columns_with_nans = ['driving_dist', 'driving_acc', 'gir', 'scrambling', \n",
    "                     'prox_rgh', 'prox_fw', 'great_shots', 'poor_shots']\n",
    "\n",
    "# Calculate skewness for the columns with NaNs\n",
    "skewness = df[columns_with_nans].skew()\n",
    "\n",
    "# Fill NaNs with mean or median based on skewness\n",
    "for col in columns_with_nans:\n",
    "    if abs(skewness[col]) > 1:\n",
    "        # Highly skewed, use median\n",
    "        df[col].fillna(df[col].median(), inplace=True)\n",
    "    else:\n",
    "        # Normally distributed, use mean\n",
    "        df[col].fillna(df[col].mean(), inplace=True)\n",
    "\n",
    "# Verify that there are no NaNs in the selected columns\n",
    "na_counts = df[columns_with_nans].isnull().sum()\n",
    "print(na_counts)"
   ]
  },
  {
   "cell_type": "code",
   "execution_count": 107,
   "id": "30df33fe-91bd-4c65-9116-6e023f2daea2",
   "metadata": {},
   "outputs": [],
   "source": [
    "# convert teetime into minutes\n",
    "df['teetime_int'] = df['teetime'].apply(time_to_minutes)"
   ]
  },
  {
   "cell_type": "code",
   "execution_count": 108,
   "id": "2811b69b-3c37-4939-8583-4afc12449808",
   "metadata": {},
   "outputs": [
    {
     "data": {
      "text/html": [
       "<div>\n",
       "<style scoped>\n",
       "    .dataframe tbody tr th:only-of-type {\n",
       "        vertical-align: middle;\n",
       "    }\n",
       "\n",
       "    .dataframe tbody tr th {\n",
       "        vertical-align: top;\n",
       "    }\n",
       "\n",
       "    .dataframe thead th {\n",
       "        text-align: right;\n",
       "    }\n",
       "</style>\n",
       "<table border=\"1\" class=\"dataframe\">\n",
       "  <thead>\n",
       "    <tr style=\"text-align: right;\">\n",
       "      <th></th>\n",
       "      <th>year</th>\n",
       "      <th>season</th>\n",
       "      <th>event_completed</th>\n",
       "      <th>event_name</th>\n",
       "      <th>dg_id</th>\n",
       "      <th>fin_text</th>\n",
       "      <th>round_num</th>\n",
       "      <th>course_num</th>\n",
       "      <th>course_par</th>\n",
       "      <th>start_hole</th>\n",
       "      <th>...</th>\n",
       "      <th>sg_total</th>\n",
       "      <th>driving_dist</th>\n",
       "      <th>driving_acc</th>\n",
       "      <th>gir</th>\n",
       "      <th>scrambling</th>\n",
       "      <th>prox_rgh</th>\n",
       "      <th>prox_fw</th>\n",
       "      <th>great_shots</th>\n",
       "      <th>poor_shots</th>\n",
       "      <th>teetime_int</th>\n",
       "    </tr>\n",
       "  </thead>\n",
       "  <tbody>\n",
       "    <tr>\n",
       "      <th>0</th>\n",
       "      <td>2023</td>\n",
       "      <td>2023</td>\n",
       "      <td>3/12/23</td>\n",
       "      <td>THE PLAYERS Championship</td>\n",
       "      <td>15575</td>\n",
       "      <td>T3</td>\n",
       "      <td>3</td>\n",
       "      <td>11</td>\n",
       "      <td>72</td>\n",
       "      <td>10</td>\n",
       "      <td>...</td>\n",
       "      <td>7.573</td>\n",
       "      <td>278.800000</td>\n",
       "      <td>0.786000</td>\n",
       "      <td>0.889000</td>\n",
       "      <td>1.000000</td>\n",
       "      <td>50.571</td>\n",
       "      <td>21.302000</td>\n",
       "      <td>6.000000</td>\n",
       "      <td>2.000000</td>\n",
       "      <td>729</td>\n",
       "    </tr>\n",
       "    <tr>\n",
       "      <th>1</th>\n",
       "      <td>2020</td>\n",
       "      <td>2021</td>\n",
       "      <td>9/20/20</td>\n",
       "      <td>U.S. Open</td>\n",
       "      <td>7881</td>\n",
       "      <td>CUT</td>\n",
       "      <td>2</td>\n",
       "      <td>891</td>\n",
       "      <td>70</td>\n",
       "      <td>10</td>\n",
       "      <td>...</td>\n",
       "      <td>-10.748</td>\n",
       "      <td>269.500000</td>\n",
       "      <td>0.500000</td>\n",
       "      <td>0.167000</td>\n",
       "      <td>0.333000</td>\n",
       "      <td>101.289</td>\n",
       "      <td>48.487000</td>\n",
       "      <td>1.000000</td>\n",
       "      <td>15.000000</td>\n",
       "      <td>752</td>\n",
       "    </tr>\n",
       "    <tr>\n",
       "      <th>2</th>\n",
       "      <td>2020</td>\n",
       "      <td>2020</td>\n",
       "      <td>3/15/20</td>\n",
       "      <td>THE PLAYERS Championship</td>\n",
       "      <td>13562</td>\n",
       "      <td>1</td>\n",
       "      <td>1</td>\n",
       "      <td>11</td>\n",
       "      <td>72</td>\n",
       "      <td>10</td>\n",
       "      <td>...</td>\n",
       "      <td>8.301</td>\n",
       "      <td>289.747443</td>\n",
       "      <td>0.600082</td>\n",
       "      <td>0.604691</td>\n",
       "      <td>0.572196</td>\n",
       "      <td>56.863</td>\n",
       "      <td>35.068873</td>\n",
       "      <td>3.603239</td>\n",
       "      <td>4.325686</td>\n",
       "      <td>504</td>\n",
       "    </tr>\n",
       "    <tr>\n",
       "      <th>3</th>\n",
       "      <td>2022</td>\n",
       "      <td>2022</td>\n",
       "      <td>3/13/22</td>\n",
       "      <td>THE PLAYERS Championship</td>\n",
       "      <td>12422</td>\n",
       "      <td>T9</td>\n",
       "      <td>4</td>\n",
       "      <td>11</td>\n",
       "      <td>72</td>\n",
       "      <td>10</td>\n",
       "      <td>...</td>\n",
       "      <td>8.571</td>\n",
       "      <td>295.500000</td>\n",
       "      <td>0.714000</td>\n",
       "      <td>0.833000</td>\n",
       "      <td>0.667000</td>\n",
       "      <td>42.105</td>\n",
       "      <td>21.992000</td>\n",
       "      <td>7.000000</td>\n",
       "      <td>1.000000</td>\n",
       "      <td>737</td>\n",
       "    </tr>\n",
       "    <tr>\n",
       "      <th>4</th>\n",
       "      <td>2024</td>\n",
       "      <td>2024</td>\n",
       "      <td>5/19/24</td>\n",
       "      <td>PGA Championship</td>\n",
       "      <td>19895</td>\n",
       "      <td>1</td>\n",
       "      <td>1</td>\n",
       "      <td>671</td>\n",
       "      <td>71</td>\n",
       "      <td>10</td>\n",
       "      <td>...</td>\n",
       "      <td>9.276</td>\n",
       "      <td>299.600000</td>\n",
       "      <td>0.857000</td>\n",
       "      <td>0.778000</td>\n",
       "      <td>0.857000</td>\n",
       "      <td>52.667</td>\n",
       "      <td>32.530000</td>\n",
       "      <td>7.000000</td>\n",
       "      <td>0.000000</td>\n",
       "      <td>483</td>\n",
       "    </tr>\n",
       "  </tbody>\n",
       "</table>\n",
       "<p>5 rows × 22 columns</p>\n",
       "</div>"
      ],
      "text/plain": [
       "   year  season event_completed                event_name  dg_id fin_text  \\\n",
       "0  2023    2023         3/12/23  THE PLAYERS Championship  15575       T3   \n",
       "1  2020    2021         9/20/20                 U.S. Open   7881      CUT   \n",
       "2  2020    2020         3/15/20  THE PLAYERS Championship  13562        1   \n",
       "3  2022    2022         3/13/22  THE PLAYERS Championship  12422       T9   \n",
       "4  2024    2024         5/19/24          PGA Championship  19895        1   \n",
       "\n",
       "   round_num  course_num  course_par  start_hole  ... sg_total  driving_dist  \\\n",
       "0          3          11          72          10  ...    7.573    278.800000   \n",
       "1          2         891          70          10  ...  -10.748    269.500000   \n",
       "2          1          11          72          10  ...    8.301    289.747443   \n",
       "3          4          11          72          10  ...    8.571    295.500000   \n",
       "4          1         671          71          10  ...    9.276    299.600000   \n",
       "\n",
       "   driving_acc       gir  scrambling  prox_rgh    prox_fw  great_shots  \\\n",
       "0     0.786000  0.889000    1.000000    50.571  21.302000     6.000000   \n",
       "1     0.500000  0.167000    0.333000   101.289  48.487000     1.000000   \n",
       "2     0.600082  0.604691    0.572196    56.863  35.068873     3.603239   \n",
       "3     0.714000  0.833000    0.667000    42.105  21.992000     7.000000   \n",
       "4     0.857000  0.778000    0.857000    52.667  32.530000     7.000000   \n",
       "\n",
       "   poor_shots  teetime_int  \n",
       "0    2.000000          729  \n",
       "1   15.000000          752  \n",
       "2    4.325686          504  \n",
       "3    1.000000          737  \n",
       "4    0.000000          483  \n",
       "\n",
       "[5 rows x 22 columns]"
      ]
     },
     "execution_count": 108,
     "metadata": {},
     "output_type": "execute_result"
    }
   ],
   "source": [
    "df.head()"
   ]
  },
  {
   "cell_type": "code",
   "execution_count": 109,
   "id": "068eddba-9ffb-4011-ae26-a66af051535c",
   "metadata": {},
   "outputs": [],
   "source": [
    "# Define bins and labels\n",
    "bins = [0, 600, 720, float('inf')]\n",
    "labels = [1, 2, 3] # 1 for 480-600 or 8AM-10AM, 2 for 601-720 or 10AM-12PM, 3 for anything greater than 721 or anytime after 12PM\n",
    "\n",
    "# Create the tee_time_of_day column using pd.cut\n",
    "df['tee_time_of_day'] = pd.cut(df['teetime_int'], bins=bins, labels=labels, right=False)\n",
    "\n",
    "df['tee_time_of_day_int'] = df['tee_time_of_day'].cat.codes + 1  # Adding 1 to match the labels"
   ]
  },
  {
   "cell_type": "code",
   "execution_count": 110,
   "id": "211864da-eb3b-4653-976a-00204084cc1b",
   "metadata": {},
   "outputs": [],
   "source": [
    "# drop teetime since it was mapped in teetime_int and grouped in tee_time_of_day\n",
    "df.drop(columns = 'teetime', inplace = True)"
   ]
  },
  {
   "cell_type": "code",
   "execution_count": 111,
   "id": "33ddd0b9-e4aa-4806-9da6-a481bf62c9e6",
   "metadata": {},
   "outputs": [],
   "source": [
    "# drop tee_time_of_day since it was converted to int in another column\n",
    "df.drop(columns = 'tee_time_of_day', inplace = True)"
   ]
  },
  {
   "cell_type": "code",
   "execution_count": 112,
   "id": "76211063-3377-4729-8566-83faad631259",
   "metadata": {},
   "outputs": [
    {
     "name": "stdout",
     "output_type": "stream",
     "text": [
      "<class 'pandas.core.frame.DataFrame'>\n",
      "RangeIndex: 15629 entries, 0 to 15628\n",
      "Data columns (total 22 columns):\n",
      " #   Column               Non-Null Count  Dtype  \n",
      "---  ------               --------------  -----  \n",
      " 0   year                 15629 non-null  int64  \n",
      " 1   season               15629 non-null  int64  \n",
      " 2   event_completed      15629 non-null  object \n",
      " 3   event_name           15629 non-null  object \n",
      " 4   dg_id                15629 non-null  int64  \n",
      " 5   fin_text             15629 non-null  object \n",
      " 6   round_num            15629 non-null  int64  \n",
      " 7   course_num           15629 non-null  int64  \n",
      " 8   course_par           15629 non-null  int64  \n",
      " 9   start_hole           15629 non-null  int64  \n",
      " 10  round_score          15629 non-null  int64  \n",
      " 11  sg_total             15629 non-null  float64\n",
      " 12  driving_dist         15629 non-null  float64\n",
      " 13  driving_acc          15629 non-null  float64\n",
      " 14  gir                  15629 non-null  float64\n",
      " 15  scrambling           15629 non-null  float64\n",
      " 16  prox_rgh             15629 non-null  float64\n",
      " 17  prox_fw              15629 non-null  float64\n",
      " 18  great_shots          15629 non-null  float64\n",
      " 19  poor_shots           15629 non-null  float64\n",
      " 20  teetime_int          15629 non-null  int64  \n",
      " 21  tee_time_of_day_int  15629 non-null  int8   \n",
      "dtypes: float64(9), int64(9), int8(1), object(3)\n",
      "memory usage: 2.5+ MB\n"
     ]
    }
   ],
   "source": [
    "df.info()"
   ]
  },
  {
   "cell_type": "code",
   "execution_count": 113,
   "id": "fcd6dda6-e4ac-4666-8710-1bc65c209d8a",
   "metadata": {},
   "outputs": [],
   "source": [
    "# drop event_completed since granular date of round is not needed for analysis\n",
    "df.drop(columns = 'event_completed', inplace = True)"
   ]
  },
  {
   "cell_type": "code",
   "execution_count": 114,
   "id": "887d654f-dbf7-4a0f-8b1b-53cc0b8ea930",
   "metadata": {},
   "outputs": [],
   "source": [
    "# drop season since granular year of round is not needed for analysis\n",
    "df.drop(columns = 'season', inplace = True)"
   ]
  },
  {
   "cell_type": "code",
   "execution_count": 115,
   "id": "f129903d-e003-4cad-9311-2fdbd8c183e1",
   "metadata": {},
   "outputs": [
    {
     "name": "stdout",
     "output_type": "stream",
     "text": [
      "464\n"
     ]
    }
   ],
   "source": [
    "# Filter to include only players who completed all four rounds\n",
    "def filter_complete_rounds(df):\n",
    "    complete_players = df.groupby(['dg_id', 'event_name', 'year']).filter(lambda x: len(x['round_num'].unique()) == 4)\n",
    "    return complete_players\n",
    "\n",
    "# Apply the filter to the dataframe\n",
    "df_complete = filter_complete_rounds(df)\n",
    "\n",
    "# Verify the filtering\n",
    "print(df_complete['dg_id'].nunique())"
   ]
  },
  {
   "cell_type": "code",
   "execution_count": 116,
   "id": "630857e2-d1b3-4780-8e66-2ab9a62a6ca3",
   "metadata": {},
   "outputs": [
    {
     "name": "stdout",
     "output_type": "stream",
     "text": [
      "<class 'pandas.core.frame.DataFrame'>\n",
      "RangeIndex: 15629 entries, 0 to 15628\n",
      "Data columns (total 20 columns):\n",
      " #   Column               Non-Null Count  Dtype  \n",
      "---  ------               --------------  -----  \n",
      " 0   year                 15629 non-null  int64  \n",
      " 1   event_name           15629 non-null  object \n",
      " 2   dg_id                15629 non-null  int64  \n",
      " 3   fin_text             15629 non-null  object \n",
      " 4   round_num            15629 non-null  int64  \n",
      " 5   course_num           15629 non-null  int64  \n",
      " 6   course_par           15629 non-null  int64  \n",
      " 7   start_hole           15629 non-null  int64  \n",
      " 8   round_score          15629 non-null  int64  \n",
      " 9   sg_total             15629 non-null  float64\n",
      " 10  driving_dist         15629 non-null  float64\n",
      " 11  driving_acc          15629 non-null  float64\n",
      " 12  gir                  15629 non-null  float64\n",
      " 13  scrambling           15629 non-null  float64\n",
      " 14  prox_rgh             15629 non-null  float64\n",
      " 15  prox_fw              15629 non-null  float64\n",
      " 16  great_shots          15629 non-null  float64\n",
      " 17  poor_shots           15629 non-null  float64\n",
      " 18  teetime_int          15629 non-null  int64  \n",
      " 19  tee_time_of_day_int  15629 non-null  int8   \n",
      "dtypes: float64(9), int64(8), int8(1), object(2)\n",
      "memory usage: 2.3+ MB\n"
     ]
    }
   ],
   "source": [
    "df.info()"
   ]
  },
  {
   "cell_type": "code",
   "execution_count": 117,
   "id": "a39a35ac-223c-4170-8cec-df6eba17b6c5",
   "metadata": {},
   "outputs": [
    {
     "name": "stdout",
     "output_type": "stream",
     "text": [
      "   dg_id          event_name  course_num  year  round_score  driving_dist  \\\n",
      "0     44  Masters Tournament          14  2017        72.25    289.747443   \n",
      "1     44  Masters Tournament          14  2018        72.75    289.747443   \n",
      "2     44  Masters Tournament          14  2023        74.25    273.175000   \n",
      "3    139  Masters Tournament          14  2017        76.25    289.747443   \n",
      "4    290  Masters Tournament          14  2018        72.75    289.747443   \n",
      "\n",
      "   driving_acc       gir  scrambling  prox_rgh    prox_fw  great_shots  \\\n",
      "0     0.600082  0.604691    0.572196   56.8630  35.068873    14.412955   \n",
      "1     0.600082  0.604691    0.572196   56.8630  35.068873    14.412955   \n",
      "2     0.732000  0.541500    0.534500   83.7815  45.310500     9.000000   \n",
      "3     0.600082  0.604691    0.572196   56.8630  35.068873    14.412955   \n",
      "4     0.600082  0.604691    0.572196   56.8630  35.068873    14.412955   \n",
      "\n",
      "   poor_shots  teetime_int  \n",
      "0   17.302744       761.00  \n",
      "1   17.302744       673.50  \n",
      "2   13.000000       695.75  \n",
      "3   17.302744       619.50  \n",
      "4   17.302744       669.75  \n",
      "driving_dist                           0\n",
      "driving_acc                            0\n",
      "gir                                    0\n",
      "scrambling                             0\n",
      "prox_rgh                               0\n",
      "prox_fw                                0\n",
      "great_shots                            0\n",
      "poor_shots                             0\n",
      "teetime_int                            0\n",
      "event_name_Masters Tournament          0\n",
      "event_name_PGA Championship            0\n",
      "event_name_THE PLAYERS Championship    0\n",
      "event_name_The Open Championship       0\n",
      "event_name_U.S. Open                   0\n",
      "course_num_11                          0\n",
      "course_num_14                          0\n",
      "course_num_43                          0\n",
      "course_num_236                         0\n",
      "course_num_241                         0\n",
      "course_num_514                         0\n",
      "course_num_528                         0\n",
      "course_num_534                         0\n",
      "course_num_541                         0\n",
      "course_num_611                         0\n",
      "course_num_618                         0\n",
      "course_num_654                         0\n",
      "course_num_658                         0\n",
      "course_num_666                         0\n",
      "course_num_668                         0\n",
      "course_num_671                         0\n",
      "course_num_697                         0\n",
      "course_num_724                         0\n",
      "course_num_744                         0\n",
      "course_num_778                         0\n",
      "course_num_880                         0\n",
      "course_num_885                         0\n",
      "course_num_891                         0\n",
      "course_num_895                         0\n",
      "year_2017                              0\n",
      "year_2018                              0\n",
      "year_2019                              0\n",
      "year_2020                              0\n",
      "year_2021                              0\n",
      "year_2022                              0\n",
      "year_2023                              0\n",
      "year_2024                              0\n",
      "dtype: int64\n",
      "0\n",
      "Test Set Mean Squared Error: 0.6704987911654212\n",
      "Test Set R-squared: 0.7396326762785792\n",
      "Training Set Mean Squared Error: 0.698361405461141\n",
      "Training Set R-squared: 0.757200182654951\n"
     ]
    }
   ],
   "source": [
    "# Aggregating Data\n",
    "aggregated_df = df_complete.groupby(['dg_id', 'event_name', 'course_num', 'year']).agg({\n",
    "    'round_score': 'mean',\n",
    "    'driving_dist': 'mean',\n",
    "    'driving_acc': 'mean',\n",
    "    'gir': 'mean',\n",
    "    'scrambling': 'mean',\n",
    "    'prox_rgh': 'mean',\n",
    "    'prox_fw': 'mean',\n",
    "    'great_shots': 'sum',\n",
    "    'poor_shots': 'sum',\n",
    "    'teetime_int': 'mean'\n",
    "}).reset_index()\n",
    "\n",
    "# Verify the aggregated DataFrame\n",
    "print(aggregated_df.head())\n",
    "\n",
    "# Train-Test Split\n",
    "X = aggregated_df.drop(columns=['dg_id', 'round_score'])\n",
    "y = aggregated_df['round_score']\n",
    "\n",
    "# Convert categorical 'event_name', 'course_num', and 'year' to dummies\n",
    "X = pd.get_dummies(X, columns=['event_name', 'course_num', 'year'], drop_first=False)\n",
    "\n",
    "# Fill any remaining NaNs in the feature set with the median value of the respective column\n",
    "X = X.fillna(X.median())\n",
    "\n",
    "# Ensure there are no NaNs in the target variable\n",
    "y = y.fillna(y.median())\n",
    "\n",
    "# Verify no NaNs left\n",
    "print(X.isnull().sum())\n",
    "print(y.isnull().sum())\n",
    "\n",
    "# Train-Test Split\n",
    "X_train, X_test, y_train, y_test = train_test_split(X, y, test_size=0.3, random_state=42)\n",
    "\n",
    "# Train the Model\n",
    "reg = LinearRegression()\n",
    "reg.fit(X_train, y_train)\n",
    "\n",
    "# Evaluate the Model\n",
    "y_pred_test = reg.predict(X_test)\n",
    "mse_test = mean_squared_error(y_test, y_pred_test)\n",
    "r2_test = r2_score(y_test, y_pred_test)\n",
    "print(f'Test Set Mean Squared Error: {mse_test}')\n",
    "print(f'Test Set R-squared: {r2_test}')\n",
    "\n",
    "y_pred_train = reg.predict(X_train)\n",
    "mse_train = mean_squared_error(y_train, y_pred_train)\n",
    "r2_train = r2_score(y_train, y_pred_train)\n",
    "print(f'Training Set Mean Squared Error: {mse_train}')\n",
    "print(f'Training Set R-squared: {r2_train}')\n"
   ]
  },
  {
   "cell_type": "code",
   "execution_count": 118,
   "id": "b86cb619-2e62-460f-9fc6-10fc6ac1fe56",
   "metadata": {},
   "outputs": [
    {
     "name": "stdout",
     "output_type": "stream",
     "text": [
      "0     44\n",
      "1     44\n",
      "2     44\n",
      "3    139\n",
      "4    290\n",
      "Name: dg_id, dtype: int64\n",
      "    dg_id\n",
      "0      44\n",
      "3     139\n",
      "4     290\n",
      "8     653\n",
      "13    874\n",
      "Invalid keys: set()\n"
     ]
    }
   ],
   "source": [
    "# Verify the dg_id values in the aggregated DataFrame\n",
    "print(aggregated_df['dg_id'].head())\n",
    "\n",
    "# Ensure dg_id mapping to player_name\n",
    "print(aggregated_df[['dg_id']].drop_duplicates().head())\n",
    "\n",
    "# Ensure player_dict has valid dg_id keys\n",
    "invalid_keys = set(aggregated_df['dg_id']) - set(player_dict.keys())\n",
    "print(f\"Invalid keys: {invalid_keys}\")"
   ]
  },
  {
   "cell_type": "code",
   "execution_count": 119,
   "id": "3fd9e0db-a676-4027-95aa-9c84b017d950",
   "metadata": {},
   "outputs": [],
   "source": [
    "def list_available_entries():\n",
    "    # List available event names\n",
    "    available_event_names = aggregated_df['event_name'].unique()\n",
    "    print(\"Available event names:\")\n",
    "    for event in available_event_names:\n",
    "        print(event)\n",
    "\n",
    "    # List available years in chronological order\n",
    "    available_years = sorted(aggregated_df['year'].unique())\n",
    "    print(\"\\nAvailable years (in chronological order):\")\n",
    "    for year in available_years:\n",
    "        print(year)\n"
   ]
  },
  {
   "cell_type": "code",
   "execution_count": 125,
   "id": "937b7731-5d28-4b41-9894-62cf21b2a839",
   "metadata": {},
   "outputs": [],
   "source": [
    "def predict_leaderboard(event_name, year):\n",
    "    # Filter the data for the specific event and year\n",
    "    event_data = aggregated_df[(aggregated_df['event_name'] == event_name) & (aggregated_df['year'] == year)]\n",
    "    \n",
    "    # Ensure only players who completed all four rounds are included\n",
    "    event_data = event_data.groupby('dg_id').filter(lambda x: len(x['round_score']) == 1)\n",
    "\n",
    "    # Check if event_data is empty\n",
    "    if event_data.empty:\n",
    "        print(f\"No data found for event: {event_name} and year: {year}\")\n",
    "        return None\n",
    "\n",
    "    # Prepare the features\n",
    "    event_features = event_data.drop(columns=['dg_id', 'round_score'])\n",
    "    event_features = pd.get_dummies(event_features, columns=['event_name', 'course_num', 'year'], drop_first=False)\n",
    "    event_features = event_features.reindex(columns=X.columns, fill_value=0)\n",
    "\n",
    "    # Fill any remaining NaNs in the feature set with the median value of the respective column\n",
    "    event_features = event_features.fillna(event_features.median())\n",
    "\n",
    "    # Predict the scores\n",
    "    event_data['predicted_score'] = reg.predict(event_features)\n",
    "    \n",
    "    # Sort players by predicted score to simulate a leaderboard\n",
    "    predicted_leaderboard = event_data.sort_values(by='predicted_score').reset_index(drop=True)\n",
    "    \n",
    "    # Add player names using the player dictionary\n",
    "    predicted_leaderboard['player_name'] = predicted_leaderboard['dg_id'].map(player_dict)\n",
    "    \n",
    "    # Select relevant columns and show top 10 players\n",
    "    predicted_leaderboard = predicted_leaderboard[['dg_id', 'player_name', 'event_name', 'year', 'predicted_score']].head(5)\n",
    "    \n",
    "    return predicted_leaderboard\n",
    "\n",
    "def get_actual_top_5(event_name, year):\n",
    "    # Filter the data for the specific event and year\n",
    "    actual_data = df[(df['event_name'] == event_name) & (df['year'] == year)]\n",
    "    \n",
    "    # Ensure only players who completed all four rounds are included\n",
    "    actual_data = actual_data.groupby('dg_id').filter(lambda x: len(x['round_num'].unique()) == 4)\n",
    "    \n",
    "    # Aggregate the data to get the total round score for each player\n",
    "    actual_data = actual_data.groupby(['dg_id', 'event_name', 'year']).agg({\n",
    "        'round_score': 'mean'\n",
    "    }).reset_index()\n",
    "    \n",
    "    # Sort by round_score to get the top 5 players\n",
    "    actual_top_5 = actual_data.sort_values(by='round_score').head(5)\n",
    "    \n",
    "    # Add player names using the player dictionary\n",
    "    actual_top_5['player_name'] = actual_top_5['dg_id'].map(player_dict)\n",
    "    \n",
    "    # Reorder columns to match the predicted leaderboard format\n",
    "    actual_top_5 = actual_top_5[['dg_id', 'player_name', 'event_name', 'year', 'round_score']]\n",
    "    \n",
    "    return actual_top_5\n"
   ]
  },
  {
   "cell_type": "code",
   "execution_count": 126,
   "id": "6cb97880-b533-4b2f-b3ab-632e1207f394",
   "metadata": {},
   "outputs": [
    {
     "name": "stdout",
     "output_type": "stream",
     "text": [
      "Available event names:\n",
      "Masters Tournament\n",
      "The Open Championship\n",
      "PGA Championship\n",
      "THE PLAYERS Championship\n",
      "U.S. Open\n",
      "\n",
      "Available years (in chronological order):\n",
      "2017\n",
      "2018\n",
      "2019\n",
      "2020\n",
      "2021\n",
      "2022\n",
      "2023\n",
      "2024\n",
      "\n",
      "Predicted Leaderboard:\n"
     ]
    },
    {
     "data": {
      "text/html": [
       "<div>\n",
       "<style scoped>\n",
       "    .dataframe tbody tr th:only-of-type {\n",
       "        vertical-align: middle;\n",
       "    }\n",
       "\n",
       "    .dataframe tbody tr th {\n",
       "        vertical-align: top;\n",
       "    }\n",
       "\n",
       "    .dataframe thead th {\n",
       "        text-align: right;\n",
       "    }\n",
       "</style>\n",
       "<table border=\"1\" class=\"dataframe\">\n",
       "  <thead>\n",
       "    <tr style=\"text-align: right;\">\n",
       "      <th></th>\n",
       "      <th>dg_id</th>\n",
       "      <th>player_name</th>\n",
       "      <th>event_name</th>\n",
       "      <th>year</th>\n",
       "      <th>predicted_score</th>\n",
       "    </tr>\n",
       "  </thead>\n",
       "  <tbody>\n",
       "    <tr>\n",
       "      <th>0</th>\n",
       "      <td>19895</td>\n",
       "      <td>Schauffele, Xander</td>\n",
       "      <td>PGA Championship</td>\n",
       "      <td>2024</td>\n",
       "      <td>67.0</td>\n",
       "    </tr>\n",
       "    <tr>\n",
       "      <th>1</th>\n",
       "      <td>19841</td>\n",
       "      <td>DeChambeau, Bryson</td>\n",
       "      <td>PGA Championship</td>\n",
       "      <td>2024</td>\n",
       "      <td>67.0</td>\n",
       "    </tr>\n",
       "    <tr>\n",
       "      <th>2</th>\n",
       "      <td>18841</td>\n",
       "      <td>Hovland, Viktor</td>\n",
       "      <td>PGA Championship</td>\n",
       "      <td>2024</td>\n",
       "      <td>67.0</td>\n",
       "    </tr>\n",
       "    <tr>\n",
       "      <th>3</th>\n",
       "      <td>11676</td>\n",
       "      <td>Finau, Tony</td>\n",
       "      <td>PGA Championship</td>\n",
       "      <td>2024</td>\n",
       "      <td>67.0</td>\n",
       "    </tr>\n",
       "    <tr>\n",
       "      <th>4</th>\n",
       "      <td>23323</td>\n",
       "      <td>MacIntyre, Robert</td>\n",
       "      <td>PGA Championship</td>\n",
       "      <td>2024</td>\n",
       "      <td>68.0</td>\n",
       "    </tr>\n",
       "  </tbody>\n",
       "</table>\n",
       "</div>"
      ],
      "text/plain": [
       "   dg_id         player_name        event_name  year  predicted_score\n",
       "0  19895  Schauffele, Xander  PGA Championship  2024             67.0\n",
       "1  19841  DeChambeau, Bryson  PGA Championship  2024             67.0\n",
       "2  18841     Hovland, Viktor  PGA Championship  2024             67.0\n",
       "3  11676         Finau, Tony  PGA Championship  2024             67.0\n",
       "4  23323   MacIntyre, Robert  PGA Championship  2024             68.0"
      ]
     },
     "metadata": {},
     "output_type": "display_data"
    },
    {
     "name": "stdout",
     "output_type": "stream",
     "text": [
      "\n",
      "Actual Top 5 Leaderboard:\n"
     ]
    },
    {
     "data": {
      "text/html": [
       "<div>\n",
       "<style scoped>\n",
       "    .dataframe tbody tr th:only-of-type {\n",
       "        vertical-align: middle;\n",
       "    }\n",
       "\n",
       "    .dataframe tbody tr th {\n",
       "        vertical-align: top;\n",
       "    }\n",
       "\n",
       "    .dataframe thead th {\n",
       "        text-align: right;\n",
       "    }\n",
       "</style>\n",
       "<table border=\"1\" class=\"dataframe\">\n",
       "  <thead>\n",
       "    <tr style=\"text-align: right;\">\n",
       "      <th></th>\n",
       "      <th>dg_id</th>\n",
       "      <th>player_name</th>\n",
       "      <th>event_name</th>\n",
       "      <th>year</th>\n",
       "      <th>round_score</th>\n",
       "    </tr>\n",
       "  </thead>\n",
       "  <tbody>\n",
       "    <tr>\n",
       "      <th>60</th>\n",
       "      <td>19895</td>\n",
       "      <td>Schauffele, Xander</td>\n",
       "      <td>PGA Championship</td>\n",
       "      <td>2024</td>\n",
       "      <td>65.75</td>\n",
       "    </tr>\n",
       "    <tr>\n",
       "      <th>59</th>\n",
       "      <td>19841</td>\n",
       "      <td>DeChambeau, Bryson</td>\n",
       "      <td>PGA Championship</td>\n",
       "      <td>2024</td>\n",
       "      <td>66.00</td>\n",
       "    </tr>\n",
       "    <tr>\n",
       "      <th>57</th>\n",
       "      <td>18841</td>\n",
       "      <td>Hovland, Viktor</td>\n",
       "      <td>PGA Championship</td>\n",
       "      <td>2024</td>\n",
       "      <td>66.50</td>\n",
       "    </tr>\n",
       "    <tr>\n",
       "      <th>24</th>\n",
       "      <td>14181</td>\n",
       "      <td>Detry, Thomas</td>\n",
       "      <td>PGA Championship</td>\n",
       "      <td>2024</td>\n",
       "      <td>67.25</td>\n",
       "    </tr>\n",
       "    <tr>\n",
       "      <th>65</th>\n",
       "      <td>22085</td>\n",
       "      <td>Morikawa, Collin</td>\n",
       "      <td>PGA Championship</td>\n",
       "      <td>2024</td>\n",
       "      <td>67.25</td>\n",
       "    </tr>\n",
       "  </tbody>\n",
       "</table>\n",
       "</div>"
      ],
      "text/plain": [
       "    dg_id         player_name        event_name  year  round_score\n",
       "60  19895  Schauffele, Xander  PGA Championship  2024        65.75\n",
       "59  19841  DeChambeau, Bryson  PGA Championship  2024        66.00\n",
       "57  18841     Hovland, Viktor  PGA Championship  2024        66.50\n",
       "24  14181       Detry, Thomas  PGA Championship  2024        67.25\n",
       "65  22085    Morikawa, Collin  PGA Championship  2024        67.25"
      ]
     },
     "metadata": {},
     "output_type": "display_data"
    },
    {
     "name": "stdout",
     "output_type": "stream",
     "text": [
      "\n",
      "Percentage of Correct Predictions: 60.00%\n"
     ]
    }
   ],
   "source": [
    "def calculate_percentage_correct(predicted_df, actual_df):\n",
    "    # Get the dg_id values from both DataFrames\n",
    "    predicted_ids = set(predicted_df['dg_id'])\n",
    "    actual_ids = set(actual_df['dg_id'])\n",
    "    \n",
    "    # Calculate the intersection of predicted and actual dg_id values\n",
    "    correct_predictions = predicted_ids.intersection(actual_ids)\n",
    "    \n",
    "    # Calculate the percentage of correct predictions\n",
    "    percentage_correct = (len(correct_predictions) / len(actual_ids)) * 100\n",
    "    \n",
    "    return percentage_correct\n",
    "\n",
    "# List available entries\n",
    "list_available_entries()\n",
    "\n",
    "# Example: Predict leaderboard for a previous event\n",
    "event_name = \"PGA Championship\"\n",
    "year = 2024\n",
    "leaderboard_prev = predict_leaderboard(event_name, year)\n",
    "if leaderboard_prev is not None:\n",
    "    # Round the predicted scores\n",
    "    leaderboard_prev['predicted_score'] = leaderboard_prev['predicted_score'].round()\n",
    "    print(\"\\nPredicted Leaderboard:\")\n",
    "    display(leaderboard_prev)\n",
    "\n",
    "# Retrieve actual top 5 players for a previous event\n",
    "actual_top_5_prev = get_actual_top_5(event_name, year)\n",
    "if actual_top_5_prev is not None:\n",
    "    print(\"\\nActual Top 5 Leaderboard:\")\n",
    "    display(actual_top_5_prev)\n",
    "\n",
    "# Calculate the percentage of correct predictions\n",
    "if leaderboard_prev is not None and actual_top_5_prev is not None:\n",
    "    percentage_correct = calculate_percentage_correct(leaderboard_prev, actual_top_5_prev)\n",
    "    print(f\"\\nPercentage of Correct Predictions: {percentage_correct:.2f}%\")\n"
   ]
  },
  {
   "cell_type": "code",
   "execution_count": null,
   "id": "313e4472-7cd1-4a6e-ba4e-64b29c3db3a4",
   "metadata": {},
   "outputs": [],
   "source": []
  },
  {
   "cell_type": "code",
   "execution_count": 122,
   "id": "b0047c9c-52fc-491c-9178-2c6621821490",
   "metadata": {},
   "outputs": [
    {
     "name": "stdout",
     "output_type": "stream",
     "text": [
      "Results saved to the output folder as images.\n"
     ]
    }
   ],
   "source": [
    "import pandas as pd\n",
    "import matplotlib.pyplot as plt\n",
    "import os\n",
    "\n",
    "# Define the events and years to be used in the loop\n",
    "events = [\n",
    "    \"Masters Tournament\",\n",
    "    \"The Open Championship\",\n",
    "    \"PGA Championship\",\n",
    "    \"THE PLAYERS Championship\",\n",
    "    \"U.S. Open\"\n",
    "]\n",
    "years = [2017, 2018, 2019, 2020, 2021, 2022, 2023, 2024]\n",
    "\n",
    "# Function to calculate percentage correct based on top 5\n",
    "def calculate_percentage_correct(predicted_df, actual_df):\n",
    "    # Get the dg_id values from both DataFrames\n",
    "    predicted_ids = set(predicted_df['dg_id'])\n",
    "    actual_ids = set(actual_df['dg_id'])\n",
    "    \n",
    "    # Calculate the intersection of predicted and actual dg_id values\n",
    "    correct_predictions = predicted_ids.intersection(actual_ids)\n",
    "    \n",
    "    # Calculate the percentage of correct predictions\n",
    "    percentage_correct = (len(correct_predictions) / len(actual_ids)) * 100\n",
    "    \n",
    "    return percentage_correct\n",
    "\n",
    "# Create the output directory if it doesn't exist\n",
    "os.makedirs(\"output\", exist_ok=True)\n",
    "\n",
    "# Initialize a list to store the summary results\n",
    "summary_results = []\n",
    "\n",
    "# Loop through each year and event\n",
    "for year in years:\n",
    "    for event in events:\n",
    "        # Skip specific combinations\n",
    "        if (year == 2020 and event in [\"Masters Tournament\", \"The Open Championship\", \"THE PLAYERS Championship\"]) or (year == 2024 and event == \"The Open Championship\"):\n",
    "            continue\n",
    "        \n",
    "        # Predict leaderboard for the event and year\n",
    "        leaderboard_prev = predict_leaderboard(event, year)\n",
    "        actual_top_5_prev = get_actual_top_5(event, year)\n",
    "        \n",
    "        # Calculate the percentage of correct predictions\n",
    "        if leaderboard_prev is not None and actual_top_5_prev is not None:\n",
    "            # Round the predicted scores\n",
    "            leaderboard_prev['predicted_score'] = leaderboard_prev['predicted_score'].round()\n",
    "\n",
    "            percentage_correct = calculate_percentage_correct(leaderboard_prev, actual_top_5_prev)\n",
    "            summary_results.append({\n",
    "                \"Year\": year,\n",
    "                \"Event\": event,\n",
    "                \"Percentage Correct\": percentage_correct\n",
    "            })\n",
    "            \n",
    "            # Ensure the DataFrames have the correct columns\n",
    "            leaderboard_prev['event_name'] = event\n",
    "            leaderboard_prev['year'] = year\n",
    "            actual_top_5_prev['event_name'] = event\n",
    "            actual_top_5_prev['year'] = year\n",
    "\n",
    "            # Create a figure for the predicted and actual leaderboards\n",
    "            fig, axes = plt.subplots(3, 1, figsize=(10, 15))\n",
    "\n",
    "            # Plot predicted leaderboard\n",
    "            axes[0].axis('off')\n",
    "            axes[0].table(cellText=leaderboard_prev.head(5).values, colLabels=leaderboard_prev.columns, cellLoc='center', loc='center')\n",
    "            axes[0].set_title(f\"Predicted Leaderboard: {event} {year}\")\n",
    "\n",
    "            # Plot actual leaderboard\n",
    "            axes[1].axis('off')\n",
    "            axes[1].table(cellText=actual_top_5_prev.values, colLabels=actual_top_5_prev.columns, cellLoc='center', loc='center')\n",
    "            axes[1].set_title(f\"Actual Top 5 Leaderboard: {event} {year}\")\n",
    "\n",
    "            # Plot percentage correct\n",
    "            axes[2].axis('off')\n",
    "            axes[2].text(0.5, 0.5, f\"Percentage of Correct Predictions: {percentage_correct:.2f}%\", horizontalalignment='center', verticalalignment='center', fontsize=15)\n",
    "            axes[2].set_title(f\"Prediction Accuracy: {event} {year}\")\n",
    "\n",
    "            # Save the figure\n",
    "            plt.tight_layout()\n",
    "            output_file = f\"output/{year}{event.replace(' ', '')}.png\"\n",
    "            plt.savefig(output_file)\n",
    "            plt.close()\n",
    "\n",
    "print(\"Results saved to the output folder as images.\")\n"
   ]
  },
  {
   "cell_type": "code",
   "execution_count": 123,
   "id": "5520eb59-6605-4667-8e1b-eda5895adb0c",
   "metadata": {},
   "outputs": [
    {
     "name": "stderr",
     "output_type": "stream",
     "text": [
      "/opt/anaconda3/lib/python3.11/site-packages/seaborn/_oldcore.py:1119: FutureWarning:\n",
      "\n",
      "use_inf_as_na option is deprecated and will be removed in a future version. Convert inf values to NaN before operating instead.\n",
      "\n"
     ]
    },
    {
     "data": {
      "image/png": "[encoded data removed]",
      "text/plain": [
       "<Figure size 1200x800 with 1 Axes>"
      ]
     },
     "metadata": {},
     "output_type": "display_data"
    }
   ],
   "source": [
    "import pandas as pd\n",
    "import matplotlib.pyplot as plt\n",
    "import seaborn as sns\n",
    "import numpy as np\n",
    "\n",
    "# Define the events and years to be used in the loop\n",
    "events = [\n",
    "    \"Masters Tournament\",\n",
    "    \"The Open Championship\",\n",
    "    \"PGA Championship\",\n",
    "    \"THE PLAYERS Championship\",\n",
    "    \"U.S. Open\"\n",
    "]\n",
    "years = [2017, 2018, 2019, 2020, 2021, 2022, 2023, 2024]\n",
    "\n",
    "# Function to calculate percentage correct based on top 5\n",
    "def calculate_percentage_correct(predicted_df, actual_df):\n",
    "    # Get the dg_id values from both DataFrames\n",
    "    predicted_ids = set(predicted_df['dg_id'])\n",
    "    actual_ids = set(actual_df['dg_id'])\n",
    "    \n",
    "    # Calculate the intersection of predicted and actual dg_id values\n",
    "    correct_predictions = predicted_ids.intersection(actual_ids)\n",
    "    \n",
    "    # Calculate the percentage of correct predictions\n",
    "    percentage_correct = (len(correct_predictions) / len(actual_ids)) * 100\n",
    "    \n",
    "    return percentage_correct\n",
    "\n",
    "# Initialize a list to store the percentage correct results\n",
    "percentage_correct_list = []\n",
    "\n",
    "# Loop through each year and event\n",
    "for year in years:\n",
    "    for event in events:\n",
    "        # Skip specific combinations\n",
    "        if (year == 2020 and event in [\"Masters Tournament\", \"The Open Championship\", \"THE PLAYERS Championship\"]) or (year == 2024 and event == \"The Open Championship\"):\n",
    "            continue\n",
    "        \n",
    "        # Predict leaderboard for the event and year\n",
    "        leaderboard_prev = predict_leaderboard(event, year)\n",
    "        actual_top_5_prev = get_actual_top_5(event, year)\n",
    "        \n",
    "        # Calculate the percentage of correct predictions\n",
    "        if leaderboard_prev is not None and actual_top_5_prev is not None:\n",
    "            # Round the predicted scores\n",
    "            leaderboard_prev['predicted_score'] = leaderboard_prev['predicted_score'].round()\n",
    "\n",
    "            percentage_correct = calculate_percentage_correct(leaderboard_prev, actual_top_5_prev)\n",
    "            percentage_correct_list.append(percentage_correct)\n",
    "\n",
    "# Plot histogram of the percentage correct\n",
    "plt.figure(figsize=(12, 8))\n",
    "sns.histplot(percentage_correct_list, bins=10, kde=True, color='blue', edgecolor='black')\n",
    "\n",
    "# Calculate mean and median\n",
    "mean_val = np.mean(percentage_correct_list)\n",
    "median_val = np.median(percentage_correct_list)\n",
    "\n",
    "# Add vertical lines for mean and median\n",
    "plt.axvline(mean_val, color='red', linestyle='--', linewidth=1.5, label=f'Mean: {mean_val:.2f}%')\n",
    "plt.axvline(median_val, color='green', linestyle='-', linewidth=1.5, label=f'Median: {median_val:.2f}%')\n",
    "\n",
    "# Add title and labels\n",
    "plt.title('Histogram of Percentage Correct Predictions with Distribution Curve')\n",
    "plt.xlabel('Percentage Correct')\n",
    "plt.ylabel('Frequency')\n",
    "\n",
    "# Add legend\n",
    "plt.legend()\n",
    "\n",
    "# Display the plot\n",
    "plt.show()\n"
   ]
  },
  {
   "cell_type": "code",
   "execution_count": 124,
   "id": "78b4ce3c-0a4f-4426-88c8-786419862fe0",
   "metadata": {
    "scrolled": true
   },
   "outputs": [
    {
     "data": {
      "application/vnd.plotly.v1+json": {
       "config": {
        "plotlyServerURL": "https://plot.ly"
       },
       "data": [
        {
         "alignmentgroup": "True",
         "hovertemplate": "Event=Masters Tournament<br>Year=%{x}<br>Percentage Correct=%{y}<extra></extra>",
         "legendgroup": "Masters Tournament",
         "marker": {
          "color": "#636efa",
          "pattern": {
           "shape": ""
          }
         },
         "name": "Masters Tournament",
         "offsetgroup": "Masters Tournament",
         "orientation": "v",
         "showlegend": true,
         "textposition": "auto",
         "type": "bar",
         "x": [
          2017,
          2018,
          2019,
          2021,
          2022,
          2023,
          2024
         ],
         "xaxis": "x",
         "y": [
          40,
          60,
          80,
          80,
          80,
          60,
          80
         ],
         "yaxis": "y"
        },
        {
         "alignmentgroup": "True",
         "hovertemplate": "Event=The Open Championship<br>Year=%{x}<br>Percentage Correct=%{y}<extra></extra>",
         "legendgroup": "The Open Championship",
         "marker": {
          "color": "#EF553B",
          "pattern": {
           "shape": ""
          }
         },
         "name": "The Open Championship",
         "offsetgroup": "The Open Championship",
         "orientation": "v",
         "showlegend": true,
         "textposition": "auto",
         "type": "bar",
         "x": [
          2017,
          2018,
          2019,
          2021,
          2022,
          2023
         ],
         "xaxis": "x",
         "y": [
          40,
          20,
          20,
          60,
          60,
          40
         ],
         "yaxis": "y"
        },
        {
         "alignmentgroup": "True",
         "hovertemplate": "Event=PGA Championship<br>Year=%{x}<br>Percentage Correct=%{y}<extra></extra>",
         "legendgroup": "PGA Championship",
         "marker": {
          "color": "#00cc96",
          "pattern": {
           "shape": ""
          }
         },
         "name": "PGA Championship",
         "offsetgroup": "PGA Championship",
         "orientation": "v",
         "showlegend": true,
         "textposition": "auto",
         "type": "bar",
         "x": [
          2017,
          2018,
          2019,
          2020,
          2021,
          2022,
          2023,
          2024
         ],
         "xaxis": "x",
         "y": [
          60,
          60,
          100,
          80,
          60,
          60,
          60,
          60
         ],
         "yaxis": "y"
        },
        {
         "alignmentgroup": "True",
         "hovertemplate": "Event=THE PLAYERS Championship<br>Year=%{x}<br>Percentage Correct=%{y}<extra></extra>",
         "legendgroup": "THE PLAYERS Championship",
         "marker": {
          "color": "#ab63fa",
          "pattern": {
           "shape": ""
          }
         },
         "name": "THE PLAYERS Championship",
         "offsetgroup": "THE PLAYERS Championship",
         "orientation": "v",
         "showlegend": true,
         "textposition": "auto",
         "type": "bar",
         "x": [
          2017,
          2018,
          2019,
          2021,
          2022,
          2023,
          2024
         ],
         "xaxis": "x",
         "y": [
          80,
          60,
          40,
          40,
          20,
          40,
          80
         ],
         "yaxis": "y"
        },
        {
         "alignmentgroup": "True",
         "hovertemplate": "Event=U.S. Open<br>Year=%{x}<br>Percentage Correct=%{y}<extra></extra>",
         "legendgroup": "U.S. Open",
         "marker": {
          "color": "#FFA15A",
          "pattern": {
           "shape": ""
          }
         },
         "name": "U.S. Open",
         "offsetgroup": "U.S. Open",
         "orientation": "v",
         "showlegend": true,
         "textposition": "auto",
         "type": "bar",
         "x": [
          2017,
          2018,
          2019,
          2020,
          2021,
          2022,
          2023,
          2024
         ],
         "xaxis": "x",
         "y": [
          80,
          40,
          60,
          80,
          20,
          40,
          60,
          80
         ],
         "yaxis": "y"
        }
       ],
       "layout": {
        "autosize": true,
        "barmode": "group",
        "legend": {
         "orientation": "h",
         "title": {
          "text": "Event"
         },
         "tracegroupgap": 0,
         "x": 0.5,
         "xanchor": "center",
         "y": 1.1
        },
        "template": {
         "data": {
          "bar": [
           {
            "error_x": {
             "color": "#2a3f5f"
            },
            "error_y": {
             "color": "#2a3f5f"
            },
            "marker": {
             "line": {
              "color": "white",
              "width": 0.5
             },
             "pattern": {
              "fillmode": "overlay",
              "size": 10,
              "solidity": 0.2
             }
            },
            "type": "bar"
           }
          ],
          "barpolar": [
           {
            "marker": {
             "line": {
              "color": "white",
              "width": 0.5
             },
             "pattern": {
              "fillmode": "overlay",
              "size": 10,
              "solidity": 0.2
             }
            },
            "type": "barpolar"
           }
          ],
          "carpet": [
           {
            "aaxis": {
             "endlinecolor": "#2a3f5f",
             "gridcolor": "#C8D4E3",
             "linecolor": "#C8D4E3",
             "minorgridcolor": "#C8D4E3",
             "startlinecolor": "#2a3f5f"
            },
            "baxis": {
             "endlinecolor": "#2a3f5f",
             "gridcolor": "#C8D4E3",
             "linecolor": "#C8D4E3",
             "minorgridcolor": "#C8D4E3",
             "startlinecolor": "#2a3f5f"
            },
            "type": "carpet"
           }
          ],
          "choropleth": [
           {
            "colorbar": {
             "outlinewidth": 0,
             "ticks": ""
            },
            "type": "choropleth"
           }
          ],
          "contour": [
           {
            "colorbar": {
             "outlinewidth": 0,
             "ticks": ""
            },
            "colorscale": [
             [
              0,
              "#0d0887"
             ],
             [
              0.1111111111111111,
              "#46039f"
             ],
             [
              0.2222222222222222,
              "#7201a8"
             ],
             [
              0.3333333333333333,
              "#9c179e"
             ],
             [
              0.4444444444444444,
              "#bd3786"
             ],
             [
              0.5555555555555556,
              "#d8576b"
             ],
             [
              0.6666666666666666,
              "#ed7953"
             ],
             [
              0.7777777777777778,
              "#fb9f3a"
             ],
             [
              0.8888888888888888,
              "#fdca26"
             ],
             [
              1,
              "#f0f921"
             ]
            ],
            "type": "contour"
           }
          ],
          "contourcarpet": [
           {
            "colorbar": {
             "outlinewidth": 0,
             "ticks": ""
            },
            "type": "contourcarpet"
           }
          ],
          "heatmap": [
           {
            "colorbar": {
             "outlinewidth": 0,
             "ticks": ""
            },
            "colorscale": [
             [
              0,
              "#0d0887"
             ],
             [
              0.1111111111111111,
              "#46039f"
             ],
             [
              0.2222222222222222,
              "#7201a8"
             ],
             [
              0.3333333333333333,
              "#9c179e"
             ],
             [
              0.4444444444444444,
              "#bd3786"
             ],
             [
              0.5555555555555556,
              "#d8576b"
             ],
             [
              0.6666666666666666,
              "#ed7953"
             ],
             [
              0.7777777777777778,
              "#fb9f3a"
             ],
             [
              0.8888888888888888,
              "#fdca26"
             ],
             [
              1,
              "#f0f921"
             ]
            ],
            "type": "heatmap"
           }
          ],
          "heatmapgl": [
           {
            "colorbar": {
             "outlinewidth": 0,
             "ticks": ""
            },
            "colorscale": [
             [
              0,
              "#0d0887"
             ],
             [
              0.1111111111111111,
              "#46039f"
             ],
             [
              0.2222222222222222,
              "#7201a8"
             ],
             [
              0.3333333333333333,
              "#9c179e"
             ],
             [
              0.4444444444444444,
              "#bd3786"
             ],
             [
              0.5555555555555556,
              "#d8576b"
             ],
             [
              0.6666666666666666,
              "#ed7953"
             ],
             [
              0.7777777777777778,
              "#fb9f3a"
             ],
             [
              0.8888888888888888,
              "#fdca26"
             ],
             [
              1,
              "#f0f921"
             ]
            ],
            "type": "heatmapgl"
           }
          ],
          "histogram": [
           {
            "marker": {
             "pattern": {
              "fillmode": "overlay",
              "size": 10,
              "solidity": 0.2
             }
            },
            "type": "histogram"
           }
          ],
          "histogram2d": [
           {
            "colorbar": {
             "outlinewidth": 0,
             "ticks": ""
            },
            "colorscale": [
             [
              0,
              "#0d0887"
             ],
             [
              0.1111111111111111,
              "#46039f"
             ],
             [
              0.2222222222222222,
              "#7201a8"
             ],
             [
              0.3333333333333333,
              "#9c179e"
             ],
             [
              0.4444444444444444,
              "#bd3786"
             ],
             [
              0.5555555555555556,
              "#d8576b"
             ],
             [
              0.6666666666666666,
              "#ed7953"
             ],
             [
              0.7777777777777778,
              "#fb9f3a"
             ],
             [
              0.8888888888888888,
              "#fdca26"
             ],
             [
              1,
              "#f0f921"
             ]
            ],
            "type": "histogram2d"
           }
          ],
          "histogram2dcontour": [
           {
            "colorbar": {
             "outlinewidth": 0,
             "ticks": ""
            },
            "colorscale": [
             [
              0,
              "#0d0887"
             ],
             [
              0.1111111111111111,
              "#46039f"
             ],
             [
              0.2222222222222222,
              "#7201a8"
             ],
             [
              0.3333333333333333,
              "#9c179e"
             ],
             [
              0.4444444444444444,
              "#bd3786"
             ],
             [
              0.5555555555555556,
              "#d8576b"
             ],
             [
              0.6666666666666666,
              "#ed7953"
             ],
             [
              0.7777777777777778,
              "#fb9f3a"
             ],
             [
              0.8888888888888888,
              "#fdca26"
             ],
             [
              1,
              "#f0f921"
             ]
            ],
            "type": "histogram2dcontour"
           }
          ],
          "mesh3d": [
           {
            "colorbar": {
             "outlinewidth": 0,
             "ticks": ""
            },
            "type": "mesh3d"
           }
          ],
          "parcoords": [
           {
            "line": {
             "colorbar": {
              "outlinewidth": 0,
              "ticks": ""
             }
            },
            "type": "parcoords"
           }
          ],
          "pie": [
           {
            "automargin": true,
            "type": "pie"
           }
          ],
          "scatter": [
           {
            "fillpattern": {
             "fillmode": "overlay",
             "size": 10,
             "solidity": 0.2
            },
            "type": "scatter"
           }
          ],
          "scatter3d": [
           {
            "line": {
             "colorbar": {
              "outlinewidth": 0,
              "ticks": ""
             }
            },
            "marker": {
             "colorbar": {
              "outlinewidth": 0,
              "ticks": ""
             }
            },
            "type": "scatter3d"
           }
          ],
          "scattercarpet": [
           {
            "marker": {
             "colorbar": {
              "outlinewidth": 0,
              "ticks": ""
             }
            },
            "type": "scattercarpet"
           }
          ],
          "scattergeo": [
           {
            "marker": {
             "colorbar": {
              "outlinewidth": 0,
              "ticks": ""
             }
            },
            "type": "scattergeo"
           }
          ],
          "scattergl": [
           {
            "marker": {
             "colorbar": {
              "outlinewidth": 0,
              "ticks": ""
             }
            },
            "type": "scattergl"
           }
          ],
          "scattermapbox": [
           {
            "marker": {
             "colorbar": {
              "outlinewidth": 0,
              "ticks": ""
             }
            },
            "type": "scattermapbox"
           }
          ],
          "scatterpolar": [
           {
            "marker": {
             "colorbar": {
              "outlinewidth": 0,
              "ticks": ""
             }
            },
            "type": "scatterpolar"
           }
          ],
          "scatterpolargl": [
           {
            "marker": {
             "colorbar": {
              "outlinewidth": 0,
              "ticks": ""
             }
            },
            "type": "scatterpolargl"
           }
          ],
          "scatterternary": [
           {
            "marker": {
             "colorbar": {
              "outlinewidth": 0,
              "ticks": ""
             }
            },
            "type": "scatterternary"
           }
          ],
          "surface": [
           {
            "colorbar": {
             "outlinewidth": 0,
             "ticks": ""
            },
            "colorscale": [
             [
              0,
              "#0d0887"
             ],
             [
              0.1111111111111111,
              "#46039f"
             ],
             [
              0.2222222222222222,
              "#7201a8"
             ],
             [
              0.3333333333333333,
              "#9c179e"
             ],
             [
              0.4444444444444444,
              "#bd3786"
             ],
             [
              0.5555555555555556,
              "#d8576b"
             ],
             [
              0.6666666666666666,
              "#ed7953"
             ],
             [
              0.7777777777777778,
              "#fb9f3a"
             ],
             [
              0.8888888888888888,
              "#fdca26"
             ],
             [
              1,
              "#f0f921"
             ]
            ],
            "type": "surface"
           }
          ],
          "table": [
           {
            "cells": {
             "fill": {
              "color": "#EBF0F8"
             },
             "line": {
              "color": "white"
             }
            },
            "header": {
             "fill": {
              "color": "#C8D4E3"
             },
             "line": {
              "color": "white"
             }
            },
            "type": "table"
           }
          ]
         },
         "layout": {
          "annotationdefaults": {
           "arrowcolor": "#2a3f5f",
           "arrowhead": 0,
           "arrowwidth": 1
          },
          "autotypenumbers": "strict",
          "coloraxis": {
           "colorbar": {
            "outlinewidth": 0,
            "ticks": ""
           }
          },
          "colorscale": {
           "diverging": [
            [
             0,
             "#8e0152"
            ],
            [
             0.1,
             "#c51b7d"
            ],
            [
             0.2,
             "#de77ae"
            ],
            [
             0.3,
             "#f1b6da"
            ],
            [
             0.4,
             "#fde0ef"
            ],
            [
             0.5,
             "#f7f7f7"
            ],
            [
             0.6,
             "#e6f5d0"
            ],
            [
             0.7,
             "#b8e186"
            ],
            [
             0.8,
             "#7fbc41"
            ],
            [
             0.9,
             "#4d9221"
            ],
            [
             1,
             "#276419"
            ]
           ],
           "sequential": [
            [
             0,
             "#0d0887"
            ],
            [
             0.1111111111111111,
             "#46039f"
            ],
            [
             0.2222222222222222,
             "#7201a8"
            ],
            [
             0.3333333333333333,
             "#9c179e"
            ],
            [
             0.4444444444444444,
             "#bd3786"
            ],
            [
             0.5555555555555556,
             "#d8576b"
            ],
            [
             0.6666666666666666,
             "#ed7953"
            ],
            [
             0.7777777777777778,
             "#fb9f3a"
            ],
            [
             0.8888888888888888,
             "#fdca26"
            ],
            [
             1,
             "#f0f921"
            ]
           ],
           "sequentialminus": [
            [
             0,
             "#0d0887"
            ],
            [
             0.1111111111111111,
             "#46039f"
            ],
            [
             0.2222222222222222,
             "#7201a8"
            ],
            [
             0.3333333333333333,
             "#9c179e"
            ],
            [
             0.4444444444444444,
             "#bd3786"
            ],
            [
             0.5555555555555556,
             "#d8576b"
            ],
            [
             0.6666666666666666,
             "#ed7953"
            ],
            [
             0.7777777777777778,
             "#fb9f3a"
            ],
            [
             0.8888888888888888,
             "#fdca26"
            ],
            [
             1,
             "#f0f921"
            ]
           ]
          },
          "colorway": [
           "#636efa",
           "#EF553B",
           "#00cc96",
           "#ab63fa",
           "#FFA15A",
           "#19d3f3",
           "#FF6692",
           "#B6E880",
           "#FF97FF",
           "#FECB52"
          ],
          "font": {
           "color": "#2a3f5f"
          },
          "geo": {
           "bgcolor": "white",
           "lakecolor": "white",
           "landcolor": "white",
           "showlakes": true,
           "showland": true,
           "subunitcolor": "#C8D4E3"
          },
          "hoverlabel": {
           "align": "left"
          },
          "hovermode": "closest",
          "mapbox": {
           "style": "light"
          },
          "paper_bgcolor": "white",
          "plot_bgcolor": "white",
          "polar": {
           "angularaxis": {
            "gridcolor": "#EBF0F8",
            "linecolor": "#EBF0F8",
            "ticks": ""
           },
           "bgcolor": "white",
           "radialaxis": {
            "gridcolor": "#EBF0F8",
            "linecolor": "#EBF0F8",
            "ticks": ""
           }
          },
          "scene": {
           "xaxis": {
            "backgroundcolor": "white",
            "gridcolor": "#DFE8F3",
            "gridwidth": 2,
            "linecolor": "#EBF0F8",
            "showbackground": true,
            "ticks": "",
            "zerolinecolor": "#EBF0F8"
           },
           "yaxis": {
            "backgroundcolor": "white",
            "gridcolor": "#DFE8F3",
            "gridwidth": 2,
            "linecolor": "#EBF0F8",
            "showbackground": true,
            "ticks": "",
            "zerolinecolor": "#EBF0F8"
           },
           "zaxis": {
            "backgroundcolor": "white",
            "gridcolor": "#DFE8F3",
            "gridwidth": 2,
            "linecolor": "#EBF0F8",
            "showbackground": true,
            "ticks": "",
            "zerolinecolor": "#EBF0F8"
           }
          },
          "shapedefaults": {
           "line": {
            "color": "#2a3f5f"
           }
          },
          "ternary": {
           "aaxis": {
            "gridcolor": "#DFE8F3",
            "linecolor": "#A2B1C6",
            "ticks": ""
           },
           "baxis": {
            "gridcolor": "#DFE8F3",
            "linecolor": "#A2B1C6",
            "ticks": ""
           },
           "bgcolor": "white",
           "caxis": {
            "gridcolor": "#DFE8F3",
            "linecolor": "#A2B1C6",
            "ticks": ""
           }
          },
          "title": {
           "x": 0.05
          },
          "xaxis": {
           "automargin": true,
           "gridcolor": "#EBF0F8",
           "linecolor": "#EBF0F8",
           "ticks": "",
           "title": {
            "standoff": 15
           },
           "zerolinecolor": "#EBF0F8",
           "zerolinewidth": 2
          },
          "yaxis": {
           "automargin": true,
           "gridcolor": "#EBF0F8",
           "linecolor": "#EBF0F8",
           "ticks": "",
           "title": {
            "standoff": 15
           },
           "zerolinecolor": "#EBF0F8",
           "zerolinewidth": 2
          }
         }
        },
        "title": {
         "text": "Percentage Correct Predictions by Year and Event",
         "x": 0.5,
         "xanchor": "center"
        },
        "xaxis": {
         "anchor": "y",
         "autorange": true,
         "domain": [
          0,
          1
         ],
         "range": [
          2016.5,
          2024.5
         ],
         "title": {
          "text": "Year"
         },
         "type": "linear"
        },
        "yaxis": {
         "anchor": "x",
         "autorange": true,
         "domain": [
          0,
          1
         ],
         "range": [
          0,
          105.26315789473684
         ],
         "title": {
          "text": "Percentage Correct"
         },
         "type": "linear"
        }
       }
      },
      "image/png": "[encoded data removed]",
      "text/html": [
       "<div>                            <div id=\"89fa441b-7083-48c7-bd99-3d81b7e02d1f\" class=\"plotly-graph-div\" style=\"height:525px; width:100%;\"></div>            <script type=\"text/javascript\">                require([\"plotly\"], function(Plotly) {                    window.PLOTLYENV=window.PLOTLYENV || {};                                    if (document.getElementById(\"89fa441b-7083-48c7-bd99-3d81b7e02d1f\")) {                    Plotly.newPlot(                        \"89fa441b-7083-48c7-bd99-3d81b7e02d1f\",                        [{\"alignmentgroup\":\"True\",\"hovertemplate\":\"Event=Masters Tournament<br>Year=%{x}<br>Percentage Correct=%{y}<extra></extra>\",\"legendgroup\":\"Masters Tournament\",\"marker\":{\"color\":\"#636efa\",\"pattern\":{\"shape\":\"\"}},\"name\":\"Masters Tournament\",\"offsetgroup\":\"Masters Tournament\",\"orientation\":\"v\",\"showlegend\":true,\"textposition\":\"auto\",\"x\":[2017,2018,2019,2021,2022,2023,2024],\"xaxis\":\"x\",\"y\":[40.0,60.0,80.0,80.0,80.0,60.0,80.0],\"yaxis\":\"y\",\"type\":\"bar\"},{\"alignmentgroup\":\"True\",\"hovertemplate\":\"Event=The Open Championship<br>Year=%{x}<br>Percentage Correct=%{y}<extra></extra>\",\"legendgroup\":\"The Open Championship\",\"marker\":{\"color\":\"#EF553B\",\"pattern\":{\"shape\":\"\"}},\"name\":\"The Open Championship\",\"offsetgroup\":\"The Open Championship\",\"orientation\":\"v\",\"showlegend\":true,\"textposition\":\"auto\",\"x\":[2017,2018,2019,2021,2022,2023],\"xaxis\":\"x\",\"y\":[40.0,20.0,20.0,60.0,60.0,40.0],\"yaxis\":\"y\",\"type\":\"bar\"},{\"alignmentgroup\":\"True\",\"hovertemplate\":\"Event=PGA Championship<br>Year=%{x}<br>Percentage Correct=%{y}<extra></extra>\",\"legendgroup\":\"PGA Championship\",\"marker\":{\"color\":\"#00cc96\",\"pattern\":{\"shape\":\"\"}},\"name\":\"PGA Championship\",\"offsetgroup\":\"PGA Championship\",\"orientation\":\"v\",\"showlegend\":true,\"textposition\":\"auto\",\"x\":[2017,2018,2019,2020,2021,2022,2023,2024],\"xaxis\":\"x\",\"y\":[60.0,60.0,100.0,80.0,60.0,60.0,60.0,60.0],\"yaxis\":\"y\",\"type\":\"bar\"},{\"alignmentgroup\":\"True\",\"hovertemplate\":\"Event=THE PLAYERS Championship<br>Year=%{x}<br>Percentage Correct=%{y}<extra></extra>\",\"legendgroup\":\"THE PLAYERS Championship\",\"marker\":{\"color\":\"#ab63fa\",\"pattern\":{\"shape\":\"\"}},\"name\":\"THE PLAYERS Championship\",\"offsetgroup\":\"THE PLAYERS Championship\",\"orientation\":\"v\",\"showlegend\":true,\"textposition\":\"auto\",\"x\":[2017,2018,2019,2021,2022,2023,2024],\"xaxis\":\"x\",\"y\":[80.0,60.0,40.0,40.0,20.0,40.0,80.0],\"yaxis\":\"y\",\"type\":\"bar\"},{\"alignmentgroup\":\"True\",\"hovertemplate\":\"Event=U.S. Open<br>Year=%{x}<br>Percentage Correct=%{y}<extra></extra>\",\"legendgroup\":\"U.S. Open\",\"marker\":{\"color\":\"#FFA15A\",\"pattern\":{\"shape\":\"\"}},\"name\":\"U.S. Open\",\"offsetgroup\":\"U.S. Open\",\"orientation\":\"v\",\"showlegend\":true,\"textposition\":\"auto\",\"x\":[2017,2018,2019,2020,2021,2022,2023,2024],\"xaxis\":\"x\",\"y\":[80.0,40.0,60.0,80.0,20.0,40.0,60.0,80.0],\"yaxis\":\"y\",\"type\":\"bar\"}],                        {\"template\":{\"data\":{\"barpolar\":[{\"marker\":{\"line\":{\"color\":\"white\",\"width\":0.5},\"pattern\":{\"fillmode\":\"overlay\",\"size\":10,\"solidity\":0.2}},\"type\":\"barpolar\"}],\"bar\":[{\"error_x\":{\"color\":\"#2a3f5f\"},\"error_y\":{\"color\":\"#2a3f5f\"},\"marker\":{\"line\":{\"color\":\"white\",\"width\":0.5},\"pattern\":{\"fillmode\":\"overlay\",\"size\":10,\"solidity\":0.2}},\"type\":\"bar\"}],\"carpet\":[{\"aaxis\":{\"endlinecolor\":\"#2a3f5f\",\"gridcolor\":\"#C8D4E3\",\"linecolor\":\"#C8D4E3\",\"minorgridcolor\":\"#C8D4E3\",\"startlinecolor\":\"#2a3f5f\"},\"baxis\":{\"endlinecolor\":\"#2a3f5f\",\"gridcolor\":\"#C8D4E3\",\"linecolor\":\"#C8D4E3\",\"minorgridcolor\":\"#C8D4E3\",\"startlinecolor\":\"#2a3f5f\"},\"type\":\"carpet\"}],\"choropleth\":[{\"colorbar\":{\"outlinewidth\":0,\"ticks\":\"\"},\"type\":\"choropleth\"}],\"contourcarpet\":[{\"colorbar\":{\"outlinewidth\":0,\"ticks\":\"\"},\"type\":\"contourcarpet\"}],\"contour\":[{\"colorbar\":{\"outlinewidth\":0,\"ticks\":\"\"},\"colorscale\":[[0.0,\"#0d0887\"],[0.1111111111111111,\"#46039f\"],[0.2222222222222222,\"#7201a8\"],[0.3333333333333333,\"#9c179e\"],[0.4444444444444444,\"#bd3786\"],[0.5555555555555556,\"#d8576b\"],[0.6666666666666666,\"#ed7953\"],[0.7777777777777778,\"#fb9f3a\"],[0.8888888888888888,\"#fdca26\"],[1.0,\"#f0f921\"]],\"type\":\"contour\"}],\"heatmapgl\":[{\"colorbar\":{\"outlinewidth\":0,\"ticks\":\"\"},\"colorscale\":[[0.0,\"#0d0887\"],[0.1111111111111111,\"#46039f\"],[0.2222222222222222,\"#7201a8\"],[0.3333333333333333,\"#9c179e\"],[0.4444444444444444,\"#bd3786\"],[0.5555555555555556,\"#d8576b\"],[0.6666666666666666,\"#ed7953\"],[0.7777777777777778,\"#fb9f3a\"],[0.8888888888888888,\"#fdca26\"],[1.0,\"#f0f921\"]],\"type\":\"heatmapgl\"}],\"heatmap\":[{\"colorbar\":{\"outlinewidth\":0,\"ticks\":\"\"},\"colorscale\":[[0.0,\"#0d0887\"],[0.1111111111111111,\"#46039f\"],[0.2222222222222222,\"#7201a8\"],[0.3333333333333333,\"#9c179e\"],[0.4444444444444444,\"#bd3786\"],[0.5555555555555556,\"#d8576b\"],[0.6666666666666666,\"#ed7953\"],[0.7777777777777778,\"#fb9f3a\"],[0.8888888888888888,\"#fdca26\"],[1.0,\"#f0f921\"]],\"type\":\"heatmap\"}],\"histogram2dcontour\":[{\"colorbar\":{\"outlinewidth\":0,\"ticks\":\"\"},\"colorscale\":[[0.0,\"#0d0887\"],[0.1111111111111111,\"#46039f\"],[0.2222222222222222,\"#7201a8\"],[0.3333333333333333,\"#9c179e\"],[0.4444444444444444,\"#bd3786\"],[0.5555555555555556,\"#d8576b\"],[0.6666666666666666,\"#ed7953\"],[0.7777777777777778,\"#fb9f3a\"],[0.8888888888888888,\"#fdca26\"],[1.0,\"#f0f921\"]],\"type\":\"histogram2dcontour\"}],\"histogram2d\":[{\"colorbar\":{\"outlinewidth\":0,\"ticks\":\"\"},\"colorscale\":[[0.0,\"#0d0887\"],[0.1111111111111111,\"#46039f\"],[0.2222222222222222,\"#7201a8\"],[0.3333333333333333,\"#9c179e\"],[0.4444444444444444,\"#bd3786\"],[0.5555555555555556,\"#d8576b\"],[0.6666666666666666,\"#ed7953\"],[0.7777777777777778,\"#fb9f3a\"],[0.8888888888888888,\"#fdca26\"],[1.0,\"#f0f921\"]],\"type\":\"histogram2d\"}],\"histogram\":[{\"marker\":{\"pattern\":{\"fillmode\":\"overlay\",\"size\":10,\"solidity\":0.2}},\"type\":\"histogram\"}],\"mesh3d\":[{\"colorbar\":{\"outlinewidth\":0,\"ticks\":\"\"},\"type\":\"mesh3d\"}],\"parcoords\":[{\"line\":{\"colorbar\":{\"outlinewidth\":0,\"ticks\":\"\"}},\"type\":\"parcoords\"}],\"pie\":[{\"automargin\":true,\"type\":\"pie\"}],\"scatter3d\":[{\"line\":{\"colorbar\":{\"outlinewidth\":0,\"ticks\":\"\"}},\"marker\":{\"colorbar\":{\"outlinewidth\":0,\"ticks\":\"\"}},\"type\":\"scatter3d\"}],\"scattercarpet\":[{\"marker\":{\"colorbar\":{\"outlinewidth\":0,\"ticks\":\"\"}},\"type\":\"scattercarpet\"}],\"scattergeo\":[{\"marker\":{\"colorbar\":{\"outlinewidth\":0,\"ticks\":\"\"}},\"type\":\"scattergeo\"}],\"scattergl\":[{\"marker\":{\"colorbar\":{\"outlinewidth\":0,\"ticks\":\"\"}},\"type\":\"scattergl\"}],\"scattermapbox\":[{\"marker\":{\"colorbar\":{\"outlinewidth\":0,\"ticks\":\"\"}},\"type\":\"scattermapbox\"}],\"scatterpolargl\":[{\"marker\":{\"colorbar\":{\"outlinewidth\":0,\"ticks\":\"\"}},\"type\":\"scatterpolargl\"}],\"scatterpolar\":[{\"marker\":{\"colorbar\":{\"outlinewidth\":0,\"ticks\":\"\"}},\"type\":\"scatterpolar\"}],\"scatter\":[{\"fillpattern\":{\"fillmode\":\"overlay\",\"size\":10,\"solidity\":0.2},\"type\":\"scatter\"}],\"scatterternary\":[{\"marker\":{\"colorbar\":{\"outlinewidth\":0,\"ticks\":\"\"}},\"type\":\"scatterternary\"}],\"surface\":[{\"colorbar\":{\"outlinewidth\":0,\"ticks\":\"\"},\"colorscale\":[[0.0,\"#0d0887\"],[0.1111111111111111,\"#46039f\"],[0.2222222222222222,\"#7201a8\"],[0.3333333333333333,\"#9c179e\"],[0.4444444444444444,\"#bd3786\"],[0.5555555555555556,\"#d8576b\"],[0.6666666666666666,\"#ed7953\"],[0.7777777777777778,\"#fb9f3a\"],[0.8888888888888888,\"#fdca26\"],[1.0,\"#f0f921\"]],\"type\":\"surface\"}],\"table\":[{\"cells\":{\"fill\":{\"color\":\"#EBF0F8\"},\"line\":{\"color\":\"white\"}},\"header\":{\"fill\":{\"color\":\"#C8D4E3\"},\"line\":{\"color\":\"white\"}},\"type\":\"table\"}]},\"layout\":{\"annotationdefaults\":{\"arrowcolor\":\"#2a3f5f\",\"arrowhead\":0,\"arrowwidth\":1},\"autotypenumbers\":\"strict\",\"coloraxis\":{\"colorbar\":{\"outlinewidth\":0,\"ticks\":\"\"}},\"colorscale\":{\"diverging\":[[0,\"#8e0152\"],[0.1,\"#c51b7d\"],[0.2,\"#de77ae\"],[0.3,\"#f1b6da\"],[0.4,\"#fde0ef\"],[0.5,\"#f7f7f7\"],[0.6,\"#e6f5d0\"],[0.7,\"#b8e186\"],[0.8,\"#7fbc41\"],[0.9,\"#4d9221\"],[1,\"#276419\"]],\"sequential\":[[0.0,\"#0d0887\"],[0.1111111111111111,\"#46039f\"],[0.2222222222222222,\"#7201a8\"],[0.3333333333333333,\"#9c179e\"],[0.4444444444444444,\"#bd3786\"],[0.5555555555555556,\"#d8576b\"],[0.6666666666666666,\"#ed7953\"],[0.7777777777777778,\"#fb9f3a\"],[0.8888888888888888,\"#fdca26\"],[1.0,\"#f0f921\"]],\"sequentialminus\":[[0.0,\"#0d0887\"],[0.1111111111111111,\"#46039f\"],[0.2222222222222222,\"#7201a8\"],[0.3333333333333333,\"#9c179e\"],[0.4444444444444444,\"#bd3786\"],[0.5555555555555556,\"#d8576b\"],[0.6666666666666666,\"#ed7953\"],[0.7777777777777778,\"#fb9f3a\"],[0.8888888888888888,\"#fdca26\"],[1.0,\"#f0f921\"]]},\"colorway\":[\"#636efa\",\"#EF553B\",\"#00cc96\",\"#ab63fa\",\"#FFA15A\",\"#19d3f3\",\"#FF6692\",\"#B6E880\",\"#FF97FF\",\"#FECB52\"],\"font\":{\"color\":\"#2a3f5f\"},\"geo\":{\"bgcolor\":\"white\",\"lakecolor\":\"white\",\"landcolor\":\"white\",\"showlakes\":true,\"showland\":true,\"subunitcolor\":\"#C8D4E3\"},\"hoverlabel\":{\"align\":\"left\"},\"hovermode\":\"closest\",\"mapbox\":{\"style\":\"light\"},\"paper_bgcolor\":\"white\",\"plot_bgcolor\":\"white\",\"polar\":{\"angularaxis\":{\"gridcolor\":\"#EBF0F8\",\"linecolor\":\"#EBF0F8\",\"ticks\":\"\"},\"bgcolor\":\"white\",\"radialaxis\":{\"gridcolor\":\"#EBF0F8\",\"linecolor\":\"#EBF0F8\",\"ticks\":\"\"}},\"scene\":{\"xaxis\":{\"backgroundcolor\":\"white\",\"gridcolor\":\"#DFE8F3\",\"gridwidth\":2,\"linecolor\":\"#EBF0F8\",\"showbackground\":true,\"ticks\":\"\",\"zerolinecolor\":\"#EBF0F8\"},\"yaxis\":{\"backgroundcolor\":\"white\",\"gridcolor\":\"#DFE8F3\",\"gridwidth\":2,\"linecolor\":\"#EBF0F8\",\"showbackground\":true,\"ticks\":\"\",\"zerolinecolor\":\"#EBF0F8\"},\"zaxis\":{\"backgroundcolor\":\"white\",\"gridcolor\":\"#DFE8F3\",\"gridwidth\":2,\"linecolor\":\"#EBF0F8\",\"showbackground\":true,\"ticks\":\"\",\"zerolinecolor\":\"#EBF0F8\"}},\"shapedefaults\":{\"line\":{\"color\":\"#2a3f5f\"}},\"ternary\":{\"aaxis\":{\"gridcolor\":\"#DFE8F3\",\"linecolor\":\"#A2B1C6\",\"ticks\":\"\"},\"baxis\":{\"gridcolor\":\"#DFE8F3\",\"linecolor\":\"#A2B1C6\",\"ticks\":\"\"},\"bgcolor\":\"white\",\"caxis\":{\"gridcolor\":\"#DFE8F3\",\"linecolor\":\"#A2B1C6\",\"ticks\":\"\"}},\"title\":{\"x\":0.05},\"xaxis\":{\"automargin\":true,\"gridcolor\":\"#EBF0F8\",\"linecolor\":\"#EBF0F8\",\"ticks\":\"\",\"title\":{\"standoff\":15},\"zerolinecolor\":\"#EBF0F8\",\"zerolinewidth\":2},\"yaxis\":{\"automargin\":true,\"gridcolor\":\"#EBF0F8\",\"linecolor\":\"#EBF0F8\",\"ticks\":\"\",\"title\":{\"standoff\":15},\"zerolinecolor\":\"#EBF0F8\",\"zerolinewidth\":2}}},\"xaxis\":{\"anchor\":\"y\",\"domain\":[0.0,1.0],\"title\":{\"text\":\"Year\"}},\"yaxis\":{\"anchor\":\"x\",\"domain\":[0.0,1.0],\"title\":{\"text\":\"Percentage Correct\"}},\"legend\":{\"title\":{\"text\":\"Event\"},\"tracegroupgap\":0,\"orientation\":\"h\",\"y\":1.1,\"x\":0.5,\"xanchor\":\"center\"},\"title\":{\"text\":\"Percentage Correct Predictions by Year and Event\",\"x\":0.5,\"xanchor\":\"center\"},\"barmode\":\"group\"},                        {\"responsive\": true}                    ).then(function(){\n",
       "                            \n",
       "var gd = document.getElementById('89fa441b-7083-48c7-bd99-3d81b7e02d1f');\n",
       "var x = new MutationObserver(function (mutations, observer) {{\n",
       "        var display = window.getComputedStyle(gd).display;\n",
       "        if (!display || display === 'none') {{\n",
       "            console.log([gd, 'removed!']);\n",
       "            Plotly.purge(gd);\n",
       "            observer.disconnect();\n",
       "        }}\n",
       "}});\n",
       "\n",
       "// Listen for the removal of the full notebook cells\n",
       "var notebookContainer = gd.closest('#notebook-container');\n",
       "if (notebookContainer) {{\n",
       "    x.observe(notebookContainer, {childList: true});\n",
       "}}\n",
       "\n",
       "// Listen for the clearing of the current output cell\n",
       "var outputEl = gd.closest('.output');\n",
       "if (outputEl) {{\n",
       "    x.observe(outputEl, {childList: true});\n",
       "}}\n",
       "\n",
       "                        })                };                });            </script>        </div>"
      ]
     },
     "metadata": {},
     "output_type": "display_data"
    }
   ],
   "source": [
    "import pandas as pd\n",
    "import plotly.express as px\n",
    "\n",
    "# Define the events and years to be used in the loop\n",
    "events = [\n",
    "    \"Masters Tournament\",\n",
    "    \"The Open Championship\",\n",
    "    \"PGA Championship\",\n",
    "    \"THE PLAYERS Championship\",\n",
    "    \"U.S. Open\"\n",
    "]\n",
    "years = [2017, 2018, 2019, 2020, 2021, 2022, 2023, 2024]\n",
    "\n",
    "# Function to calculate percentage correct based on top 5\n",
    "def calculate_percentage_correct(predicted_df, actual_df):\n",
    "    # Get the dg_id values from both DataFrames\n",
    "    predicted_ids = set(predicted_df['dg_id'])\n",
    "    actual_ids = set(actual_df['dg_id'])\n",
    "    \n",
    "    # Calculate the intersection of predicted and actual dg_id values\n",
    "    correct_predictions = predicted_ids.intersection(actual_ids)\n",
    "    \n",
    "    # Calculate the percentage of correct predictions\n",
    "    percentage_correct = (len(correct_predictions) / len(actual_ids)) * 100\n",
    "    \n",
    "    return percentage_correct\n",
    "\n",
    "# Initialize a list to store the results\n",
    "results = []\n",
    "\n",
    "# Loop through each year and event\n",
    "for year in years:\n",
    "    for event in events:\n",
    "        # Skip specific combinations\n",
    "        if (year == 2020 and event in [\"Masters Tournament\", \"The Open Championship\", \"THE PLAYERS Championship\"]) or (year == 2024 and event == \"The Open Championship\"):\n",
    "            continue\n",
    "        \n",
    "        # Predict leaderboard for the event and year\n",
    "        leaderboard_prev = predict_leaderboard(event, year)\n",
    "        actual_top_5_prev = get_actual_top_5(event, year)\n",
    "        \n",
    "        # Calculate the percentage of correct predictions\n",
    "        if leaderboard_prev is not None and actual_top_5_prev is not None:\n",
    "            # Round the predicted scores\n",
    "            leaderboard_prev['predicted_score'] = leaderboard_prev['predicted_score'].round()\n",
    "\n",
    "            percentage_correct = calculate_percentage_correct(leaderboard_prev, actual_top_5_prev)\n",
    "            results.append({\n",
    "                \"Year\": year,\n",
    "                \"Event\": event,\n",
    "                \"Percentage Correct\": percentage_correct\n",
    "            })\n",
    "\n",
    "# Create a DataFrame from the results\n",
    "results_df = pd.DataFrame(results)\n",
    "\n",
    "# Create the bar plot with Plotly Express\n",
    "fig = px.bar(\n",
    "    results_df,\n",
    "    x=\"Year\",\n",
    "    y=\"Percentage Correct\",\n",
    "    color=\"Event\",\n",
    "    barmode=\"group\",\n",
    "    title=\"Percentage Correct Predictions by Year and Event\",\n",
    "    labels={\"Percentage Correct\": \"Percentage Correct\", \"Year\": \"Year\"},\n",
    "    template=\"plotly_white\"\n",
    ")\n",
    "\n",
    "# Update the layout to make it look better\n",
    "fig.update_layout(\n",
    "    title={'x': 0.5, 'xanchor': 'center'},\n",
    "    legend=dict(title=\"Event\", orientation=\"h\", y=1.1, x=0.5, xanchor='center')\n",
    ")\n",
    "\n",
    "# Show the plot\n",
    "fig.show()\n"
   ]
  },
  {
   "cell_type": "code",
   "execution_count": null,
   "id": "a2480f48-9d6e-443f-b1b3-558b47794049",
   "metadata": {},
   "outputs": [],
   "source": []
  }
 ],
 "metadata": {
  "kernelspec": {
   "display_name": "Python 3 (ipykernel)",
   "language": "python",
   "name": "python3"
  },
  "language_info": {
   "codemirror_mode": {
    "name": "ipython",
    "version": 3
   },
   "file_extension": ".py",
   "mimetype": "text/x-python",
   "name": "python",
   "nbconvert_exporter": "python",
   "pygments_lexer": "ipython3",
   "version": "3.11.7"
  }
 },
 "nbformat": 4,
 "nbformat_minor": 5
}
